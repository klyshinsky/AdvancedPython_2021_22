{
 "cells": [
  {
   "cell_type": "markdown",
   "metadata": {},
   "source": [
    "## Шаблоны проектирования и Python"
   ]
  },
  {
   "cell_type": "markdown",
   "metadata": {},
   "source": [
    "Шаблон проектирования или паттерн (англ. design pattern) в разработке программного обеспечения — повторяемая архитектурная конструкция, представляющая собой решение проблемы проектирования в рамках некоторого часто возникающего контекста.\n",
    "\n",
    "Обычно шаблон не является законченным образцом, который может быть прямо преобразован в код; это лишь пример решения задачи, который можно использовать в различных ситуациях. Объектно-ориентированные шаблоны показывают отношения и взаимодействия между классами или объектами, без определения того, какие конечные классы или объекты приложения будут использоваться.\n",
    "\n",
    "«Низкоуровневые» шаблоны, учитывающие специфику конкретного языка программирования, называются идиомами. Это хорошие решения проектирования, характерные для конкретного языка или программной платформы, и потому не универсальные.\n",
    "\n",
    "На наивысшем уровне существуют архитектурные шаблоны, они охватывают собой архитектуру всей программной системы.\n",
    "\n",
    "Алгоритмы по своей сути также являются шаблонами, но не проектирования, а вычисления, так как решают вычислительные задачи.\n",
    "\n",
    "[Википедия](https://ru.wikipedia.org/wiki/%D0%A8%D0%B0%D0%B1%D0%BB%D0%BE%D0%BD_%D0%BF%D1%80%D0%BE%D0%B5%D0%BA%D1%82%D0%B8%D1%80%D0%BE%D0%B2%D0%B0%D0%BD%D0%B8%D1%8F)"
   ]
  },
  {
   "cell_type": "markdown",
   "metadata": {},
   "source": [
    "#### Будьте осторожны\n",
    "\n",
    "- Шаблоны проектирования — не «серебряная пуля».\n",
    "- Не пытайтесь внедрять их принудительно, последствия могут быть негативными. Помните, что шаблоны — это способы решения, а не поиска проблем. Так что не перемудрите.\n",
    "- Если применять их правильно и в нужных местах, они могут оказаться спасением. В противном случае у вас будет ещё больше проблем.\n",
    "\n",
    "[Хабр](https://habr.com/ru/company/mailru/blog/325492/)\n"
   ]
  },
  {
   "cell_type": "markdown",
   "metadata": {},
   "source": [
    "Много разных шаблонов на Питоне (и других языках) можно найти [здесь](https://refactoring.guru/ru/design-patterns/python)."
   ]
  },
  {
   "cell_type": "markdown",
   "metadata": {},
   "source": [
    "Какие шаблоны проектирования мы сегодня разберем:\n",
    "- [синглетон](#singleton);\n",
    "- [синглетон на метаклассах](#singletonmeta);\n",
    "- [фасад](#facade)\n",
    "- [внедрение зависимостей (не шаблон)](#injection)\n",
    "- [абстрактная фабрика](#abstractfactory);\n",
    "- [состояние](#state)\n",
    "- [строитель](#builder)"
   ]
  },
  {
   "cell_type": "markdown",
   "metadata": {},
   "source": [
    "<a name=\"singleton\"></a>\n",
    "### Синглетон\n",
    "\n",
    "Представим себе ситуацию, когда нам нужно, чтобы в системе находился только один объект данного типа. Реализовать подобное можно при помощи синглетона.\n",
    "\n",
    "Допустим, мы считаем, что загружать память несколькими словарями морфологии/копиями корпуса/наборами данных/продолжить по своему усмотрению - непозволительная роскошь. Аналогично мы можем считать, что доступ к какому-то ресурсу должен осуществляться только через один-единственный интерфейсный объект без создания его копий: система логирования, чтение и запись в некоторый файл, система контроля доступа и т.д. \n",
    "\n",
    "В этом случае нам поможет шаблон **Синглетон (Одиночка)**.\n",
    "\n",
    "Одна из его реулизаций выглядит следующим образом."
   ]
  },
  {
   "cell_type": "code",
   "execution_count": 26,
   "metadata": {},
   "outputs": [],
   "source": [
    "class Logger(object): # Явно прописывать наследование от object не обязательно.\n",
    "    \n",
    "    # Один журнал на всех.\n",
    "    log = [] \n",
    "    \n",
    "    # Переопределим оператор выделения объекта.\n",
    "    def __new__(cls, *args, **kwargs):\n",
    "        # Проверим есть ли у класса этот атрибут.\n",
    "        if not hasattr(cls, '_logger'):\n",
    "            # Просим родительский класс создать объект типа, переданного в cls, то есть Logger.\n",
    "            cls._logger = super(Logger, cls).__new__(cls, *args, **kwargs)\n",
    "        # Возвращаем созданный (только что или ранее) объект.\n",
    "        return cls._logger\n",
    "    \n",
    "    # Эту функцию можно было и не создавать.\n",
    "    def __init__(self):\n",
    "        pass # Если создавать журнал для каждого объекта, то у них будут разные журналы.\n",
    "        \n",
    "    # Функция журналирования.\n",
    "    def logIt(self, s: str):\n",
    "        Logger.log.append(s)"
   ]
  },
  {
   "cell_type": "code",
   "execution_count": 27,
   "metadata": {},
   "outputs": [
    {
     "name": "stdout",
     "output_type": "stream",
     "text": [
      "[]\n",
      "['first']\n",
      "['first', 'second', 'third']\n"
     ]
    }
   ],
   "source": [
    "a=Logger()\n",
    "print(a.log)\n",
    "a.logIt(\"first\")\n",
    "b=Logger()\n",
    "print(b.log)\n",
    "b.logIt(\"second\")\n",
    "a.logIt(\"third\")\n",
    "print(b.log)\n"
   ]
  },
  {
   "cell_type": "markdown",
   "metadata": {},
   "source": [
    "<a name=\"singletoneta\"></a>\n",
    "### Синглетон на метаклассах\n",
    "\n",
    "Вместо такого подхода можно использовать **метаклассы**.\n",
    "\n",
    "Метакласс - это тип, используемый для создания других объектов.\n",
    "\n",
    "Создадим синглетон, который будет выдавать очередной свободный идентификатор."
   ]
  },
  {
   "cell_type": "code",
   "execution_count": 92,
   "metadata": {},
   "outputs": [],
   "source": [
    "# Метакласс для которого переопределяется оператор круглые скобки.\n",
    "class CounterMeta(type):\n",
    "    __instance = None\n",
    "    \n",
    "    def __call__(self):\n",
    "        if CounterMeta.__instance is None:\n",
    "            CounterMeta.__instance = super().__call__()\n",
    "            # Вот так self.__instance = type(self)() - нельзя, потому что так мы вызываем сами себя.\n",
    "            # Поэтому используем базовый класс\n",
    "        return CounterMeta.__instance\n",
    "    \n",
    "# Сообщаем какой будет метакласс для данного класса.\n",
    "class Counter(metaclass=CounterMeta):\n",
    "    \n",
    "    # Счетчик, хранит очередной идентификатор.\n",
    "    __free_id = 0\n",
    "    \n",
    "    # Альтернативный вариант для хитрого финта ушами.\n",
    "    def __init__(self):\n",
    "        self.__private = 0\n",
    "        \n",
    "    # Выдает очередной свободный идентификатор и сдвигается на следующее значение.\n",
    "    def get_id(self) -> int:\n",
    "        new_id = Counter.__free_id\n",
    "        Counter.__free_id += 1\n",
    "        return new_id"
   ]
  },
  {
   "cell_type": "code",
   "execution_count": 93,
   "metadata": {},
   "outputs": [
    {
     "name": "stdout",
     "output_type": "stream",
     "text": [
      "<class '__main__.Counter'>\n",
      "0\n",
      "1\n",
      "2\n",
      "3\n"
     ]
    }
   ],
   "source": [
    "a = Counter()\n",
    "print(type(a))\n",
    "print(a.get_id())\n",
    "b = Counter()\n",
    "print(b.get_id())\n",
    "print(a.get_id())\n",
    "print(Counter().get_id())"
   ]
  },
  {
   "cell_type": "markdown",
   "metadata": {},
   "source": [
    "Как мы видим, объект понимает кто его метакласс и вызывает соответствующую функцию для создания. В ней можно динамически создать нужные атрибуты и добавить необходимые функции. Как можно использовать метаклассы можно посмотреть на том же [Хабре](https://habr.com/ru/post/145835/).\n",
    "\n",
    "Но теперь вернемся к глубинам классов. Взглянем на свойства, хранимые в таком классе."
   ]
  },
  {
   "cell_type": "code",
   "execution_count": 94,
   "metadata": {},
   "outputs": [
    {
     "data": {
      "text/plain": [
       "mappingproxy({'_Counter__free_id': 4,\n",
       "              '__dict__': <attribute '__dict__' of 'Counter' objects>,\n",
       "              '__doc__': None,\n",
       "              '__init__': <function __main__.Counter.__init__>,\n",
       "              '__module__': '__main__',\n",
       "              '__weakref__': <attribute '__weakref__' of 'Counter' objects>,\n",
       "              'get_id': <function __main__.Counter.get_id>})"
      ]
     },
     "execution_count": 94,
     "metadata": {},
     "output_type": "execute_result"
    }
   ],
   "source": [
    "Counter.__dict__"
   ]
  },
  {
   "cell_type": "markdown",
   "metadata": {},
   "source": [
    "Оказывается свойство `__free_id` просто прячется за новым именем. А что, если мы ему что-нибудь присвоим."
   ]
  },
  {
   "cell_type": "code",
   "execution_count": 85,
   "metadata": {},
   "outputs": [
    {
     "name": "stdout",
     "output_type": "stream",
     "text": [
      "-1\n",
      "0\n"
     ]
    }
   ],
   "source": [
    "Counter._Counter__free_id = -1\n",
    "print(Counter().get_id())\n",
    "print(Counter().get_id())"
   ]
  },
  {
   "cell_type": "markdown",
   "metadata": {},
   "source": [
    "А теперь посмотрим на `__private`. Так как он хранится в объекте, то на объект и посмотрим."
   ]
  },
  {
   "cell_type": "code",
   "execution_count": 86,
   "metadata": {},
   "outputs": [
    {
     "name": "stdout",
     "output_type": "stream",
     "text": [
      "{'_Counter__private': 0}\n",
      "{'_Counter__private': 0, '__private': -1}\n"
     ]
    }
   ],
   "source": [
    "c = Counter()\n",
    "print(c.__dict__)\n",
    "c.__private = -1\n",
    "print(c.__dict__)"
   ]
  },
  {
   "cell_type": "markdown",
   "metadata": {},
   "source": [
    "Он, оказывается, тоже хранится в новой переменной, в которую включено имя класса. Правильное присвоение тоже позволит менять это \"спрятанное\" свойство.\n",
    "\n",
    "\n",
    "<div style=\"background:#eef; width:75%;\"><i>Nothing is really private in python. No class or class instance can keep you away from all what's inside (this makes introspection possible and powerful). Python trusts you. It says \"hey, if you want to go poking around in dark places, I'm gonna trust that you've got a good reason and you're not making trouble.\"</i></div>\n",
    "[Karl Fast](https://mail.python.org/pipermail/tutor/2003-October/025932.html)\n",
    "\n",
    "\n",
    "Для завершения давайте создадим еще один счетчик, но пусть он возвращает строковые идентификаторы."
   ]
  },
  {
   "cell_type": "markdown",
   "metadata": {},
   "source": [
    "А что будет, если в дочернем классе переопределить свойство @property как обычное свойство класса?\n",
    "\n",
    "Это вызовет ошибку."
   ]
  },
  {
   "cell_type": "code",
   "execution_count": 1,
   "metadata": {},
   "outputs": [],
   "source": [
    "class A1:\n",
    "    @property\n",
    "    def bbb():\n",
    "        return 1\n",
    "    \n",
    "class B2(A1):\n",
    "    \n",
    "    def __init__(self):\n",
    "        self.bbb = 2"
   ]
  },
  {
   "cell_type": "code",
   "execution_count": 2,
   "metadata": {},
   "outputs": [
    {
     "ename": "AttributeError",
     "evalue": "can't set attribute",
     "output_type": "error",
     "traceback": [
      "\u001b[0;31m---------------------------------------------------------------------------\u001b[0m",
      "\u001b[0;31mAttributeError\u001b[0m                            Traceback (most recent call last)",
      "\u001b[0;32m<ipython-input-2-a297418da369>\u001b[0m in \u001b[0;36m<module>\u001b[0;34m\u001b[0m\n\u001b[0;32m----> 1\u001b[0;31m \u001b[0mccc\u001b[0m \u001b[0;34m=\u001b[0m \u001b[0mB2\u001b[0m\u001b[0;34m(\u001b[0m\u001b[0;34m)\u001b[0m\u001b[0;34m\u001b[0m\u001b[0;34m\u001b[0m\u001b[0m\n\u001b[0m\u001b[1;32m      2\u001b[0m \u001b[0mccc\u001b[0m\u001b[0;34m.\u001b[0m\u001b[0mbbb\u001b[0m\u001b[0;34m\u001b[0m\u001b[0;34m\u001b[0m\u001b[0m\n",
      "\u001b[0;32m<ipython-input-1-3842b95d50a4>\u001b[0m in \u001b[0;36m__init__\u001b[0;34m(self)\u001b[0m\n\u001b[1;32m      7\u001b[0m \u001b[0;34m\u001b[0m\u001b[0m\n\u001b[1;32m      8\u001b[0m     \u001b[0;32mdef\u001b[0m \u001b[0m__init__\u001b[0m\u001b[0;34m(\u001b[0m\u001b[0mself\u001b[0m\u001b[0;34m)\u001b[0m\u001b[0;34m:\u001b[0m\u001b[0;34m\u001b[0m\u001b[0;34m\u001b[0m\u001b[0m\n\u001b[0;32m----> 9\u001b[0;31m         \u001b[0mself\u001b[0m\u001b[0;34m.\u001b[0m\u001b[0mbbb\u001b[0m \u001b[0;34m=\u001b[0m \u001b[0;36m2\u001b[0m\u001b[0;34m\u001b[0m\u001b[0;34m\u001b[0m\u001b[0m\n\u001b[0m",
      "\u001b[0;31mAttributeError\u001b[0m: can't set attribute"
     ]
    }
   ],
   "source": [
    "ccc = B2()\n",
    "ccc.bbb"
   ]
  },
  {
   "cell_type": "code",
   "execution_count": null,
   "metadata": {},
   "outputs": [],
   "source": []
  },
  {
   "cell_type": "code",
   "execution_count": 311,
   "metadata": {},
   "outputs": [],
   "source": [
    "# Метакласс для которого переопределяется оператор круглые скобки.\n",
    "class ChrCounterMeta(type):\n",
    "    __instance = None\n",
    "    \n",
    "    def __call__(self):\n",
    "        if ChrCounterMeta.__instance is None:\n",
    "            ChrCounterMeta.__instance = super().__call__()\n",
    "            # Вот так self.__instance = type(self)() - нельзя, потому что так мы вызываем сами себя.\n",
    "            # Поэтому используем базовый класс\n",
    "        return ChrCounterMeta.__instance\n",
    "    \n",
    "# Сообщаем какой будет метакласс для данного класса.\n",
    "class ChrCounter(metaclass=ChrCounterMeta):\n",
    "    \n",
    "    # Счетчик, хранит очередной идентификатор.\n",
    "    __free_id = 'A'\n",
    "    \n",
    "    # Выдает очередной свободный идентификатор и сдвигается на следующее значение.\n",
    "    def get_id(self) -> int:\n",
    "        \n",
    "        new_id = ChrCounter.__free_id\n",
    "        pos = len(ChrCounter.__free_id) - 1\n",
    "        while pos >= 0:\n",
    "            if ChrCounter.__free_id[pos] == 'Z':\n",
    "                if pos == 0:\n",
    "                    ChrCounter.__free_id = 'A'*(len(ChrCounter.__free_id)+1)\n",
    "                    break\n",
    "                else:\n",
    "                    ChrCounter.__free_id = ChrCounter.__free_id[:pos] + \\\n",
    "                                           'A' + ChrCounter.__free_id[pos+1:]\n",
    "                    pos -= 1\n",
    "            else:\n",
    "                ChrCounter.__free_id = ChrCounter.__free_id[:pos] + \\\n",
    "                                       chr(ord(ChrCounter.__free_id[pos])+1) + \\\n",
    "                                       ChrCounter.__free_id[pos+1:]\n",
    "                break\n",
    "        \n",
    "        return new_id"
   ]
  },
  {
   "cell_type": "code",
   "execution_count": 312,
   "metadata": {},
   "outputs": [
    {
     "name": "stdout",
     "output_type": "stream",
     "text": [
      "A\n",
      "B\n",
      "C\n",
      "D\n",
      "E\n",
      "F\n"
     ]
    }
   ],
   "source": [
    "d = ChrCounter()\n",
    "print(d.get_id())\n",
    "print(d.get_id())\n",
    "print(d.get_id())\n",
    "print(d.get_id())\n",
    "print(d.get_id())\n",
    "print(d.get_id())"
   ]
  },
  {
   "cell_type": "code",
   "execution_count": 313,
   "metadata": {},
   "outputs": [
    {
     "name": "stdout",
     "output_type": "stream",
     "text": [
      "SW\n"
     ]
    }
   ],
   "source": [
    "for i in range(510):\n",
    "    d.get_id()\n",
    "print(d.get_id())\n"
   ]
  },
  {
   "cell_type": "markdown",
   "metadata": {},
   "source": [
    "Перед тем как пойти дальше, замечу, что в многопоточном приложении мы создадим по собственному синглетону в каждом потоке и будем пользоваться ими параллельно, то есть не добъемся своей основной цели. Но чтобы решить эту проблему сперва надо понять как разрабатывать многопоточные приложения. А мы этим займемся точно не в этом модуле.\n",
    "\n",
    "Ну и уж коли наш глаз зацепился за `type`. Он сам по себе является метаклассом и при помощи его оператора круглые скобки можно содавать новые классы. Для этого необходимо передать следующие аргументы:<br>\n",
    "type(<имя класса>, <br>\n",
    "<кортеж родительских классов>, _# для наследования, может быть пустым_<br>\n",
    "<словарь, содержащий атрибуты и их значения>) <br>\n",
    "  \n",
    "Например."
   ]
  },
  {
   "cell_type": "code",
   "execution_count": 316,
   "metadata": {},
   "outputs": [
    {
     "name": "stdout",
     "output_type": "stream",
     "text": [
      "A\n",
      "B\n",
      "A\n",
      "B\n"
     ]
    }
   ],
   "source": [
    "def get_id(self) -> int:\n",
    "\n",
    "    new_id = self.__free_id\n",
    "    pos = len(self.__free_id) - 1\n",
    "    while pos >= 0:\n",
    "        if self.__free_id[pos] == 'Z':\n",
    "            if pos == 0:\n",
    "                self.__free_id = 'A'*(len(__free_id.__free_id)+1)\n",
    "                break\n",
    "            else:\n",
    "                self.__free_id = self.__free_id[:pos] + \\\n",
    "                                 'A' + self.__free_id[pos+1:]\n",
    "                pos -= 1\n",
    "        else:\n",
    "            self.__free_id = self.__free_id[:pos] + \\\n",
    "                             chr(ord(self.__free_id[pos])+1) + \\\n",
    "                             self.__free_id[pos+1:]\n",
    "            break\n",
    "\n",
    "    return new_id\n",
    "\n",
    "def init(self):\n",
    "    self.__free_id = 'A'\n",
    "\n",
    "    \n",
    "NewCounter = type('NewCounter', (), {'__init__': init, 'get_id': get_id})\n",
    "e = NewCounter()\n",
    "print(e.get_id())\n",
    "print(e.get_id())\n",
    "f = NewCounter()\n",
    "print(f.get_id())\n",
    "print(f.get_id())"
   ]
  },
  {
   "cell_type": "markdown",
   "metadata": {},
   "source": [
    "<a name=\"facade\"></a>\n",
    "### Фасад\n",
    "\n",
    "Фасад - это фактически переписывание интерфейса существующей системы под наши нужды. При этом может проводиться унификация интерфейсов. Хотя это не обязательно, мы можем просто обернуть несколько подсистем единым интерфейсом."
   ]
  },
  {
   "cell_type": "code",
   "execution_count": 325,
   "metadata": {},
   "outputs": [],
   "source": [
    "import re"
   ]
  },
  {
   "cell_type": "code",
   "execution_count": 336,
   "metadata": {},
   "outputs": [],
   "source": [
    "# Заведем несколько простых, но дурацких классов для токенизации, лемматизации и дизамбигуации.\n",
    "class SimpleTokenizer:\n",
    "    def tokenize(self, text: str) -> list:\n",
    "        return re.findall(\"[А-Яа-яёЁ]+\", text)\n",
    "    \n",
    "class SimpleLemmatizer:\n",
    "    \n",
    "    def __init__(self):\n",
    "        self.dictionary = {'мама':['Nfasn'], 'мамы':['Nfapn', 'Nfasg']}\n",
    "        \n",
    "    def addWord(self, word: str, analysis: list) -> None:\n",
    "        if word in self.dictionary.keys():\n",
    "            self.dictionary[word].extend(analysis)\n",
    "        else:\n",
    "            self.dictionary[word] = analysis\n",
    "            \n",
    "    def analyse(self, text: list) -> list:\n",
    "        res = []\n",
    "        for word in text:\n",
    "            res.append(self.dictionary.get(word, ['none']))\n",
    "        return res\n",
    "\n",
    "class SimpleDisambiguator:\n",
    "    \n",
    "    def disambiguate(self, text: list) -> list:\n",
    "        res = []\n",
    "        for word in text:\n",
    "            res.append(word[0])\n",
    "        return res\n",
    "            "
   ]
  },
  {
   "cell_type": "code",
   "execution_count": 337,
   "metadata": {},
   "outputs": [],
   "source": [
    "# Создадим класс фасада, который будет проводить все действия по анализу текстов.\n",
    "class TextAnalyser:\n",
    "    def __init__(self):\n",
    "        self.tok = SimpleTokenizer()\n",
    "        self.lemm = SimpleLemmatizer()\n",
    "        self.dis = SimpleDisambiguator()\n",
    "        self.lemm.addWord('маму', ['Nfasa'])\n",
    "        \n",
    "    def analyze(self, text: str) -> list:\n",
    "        return self.dis.disambiguate(self.lemm.analyse(self.tok.tokenize(text)))"
   ]
  },
  {
   "cell_type": "code",
   "execution_count": 338,
   "metadata": {},
   "outputs": [
    {
     "name": "stdout",
     "output_type": "stream",
     "text": [
      "['Nfasn', 'Nfapn', 'Nfasa']\n"
     ]
    }
   ],
   "source": [
    "# Получим простой интерфейс, для использования которого не важно знать что внутри.\n",
    "analyzer = TextAnalyser()\n",
    "print(analyzer.analyze('мама мамы маму'))"
   ]
  },
  {
   "cell_type": "markdown",
   "metadata": {},
   "source": [
    "<a name=\"injection\"></a>\n",
    "### Внедрение зависимостей\n",
    "\n",
    "Внедрение зависимостей не является шаблоном проектирования - это просто некоторый механизм, который позволяет удобно модифицировать поведение класса без использования наследования. При этом модификация может быть проведена в ходе жизни объекта.\n",
    "\n",
    "Сделаем фасад для Pymorphy2, который будет отвечать нашему интерфейсу. Переделаем анализатор текста так, чтобы можно было передавать ему каким морфологическим анализатором мы хотим пользоваться.\n",
    "\n",
    "На самом деле, можно было бы и не передавать морфологический анализатор, можно было бы просто вызывать соответствующий метод, а анализатор создавался бы в нем."
   ]
  },
  {
   "cell_type": "code",
   "execution_count": 339,
   "metadata": {},
   "outputs": [],
   "source": [
    "import pymorphy2"
   ]
  },
  {
   "cell_type": "code",
   "execution_count": 393,
   "metadata": {},
   "outputs": [],
   "source": [
    "class DummyPymorphyFacade(SimpleLemmatizer):\n",
    "    def __init__(self):\n",
    "        super().__init__()\n",
    "        self.morph = pymorphy2.MorphAnalyzer()\n",
    "        \n",
    "    def analyse(self, text: list) -> list:\n",
    "        res = []\n",
    "        for word in text:\n",
    "            if word in self.dictionary.keys():\n",
    "                res.append(self.dictionary.get(word, ['none']))\n",
    "            else:\n",
    "                wf = self.morph.parse(word)\n",
    "                wf2 = []\n",
    "                for form in wf:\n",
    "                    wf2.append([f[0] for f in sorted(form.tag.grammemes)])\n",
    "                res.append([''.join(w) for w in wf2])\n",
    "        return res\n"
   ]
  },
  {
   "cell_type": "code",
   "execution_count": 394,
   "metadata": {},
   "outputs": [
    {
     "data": {
      "text/plain": [
       "[['Naafs']]"
      ]
     },
     "execution_count": 394,
     "metadata": {},
     "output_type": "execute_result"
    }
   ],
   "source": [
    "a = DummyPymorphyFacade()\n",
    "a.analyse([\"мамой\"])"
   ]
  },
  {
   "cell_type": "code",
   "execution_count": 396,
   "metadata": {},
   "outputs": [],
   "source": [
    "# Создадим класс фасада, который будет проводить все действия по анализу текстов.\n",
    "class TextAnalyser2:\n",
    "    def __init__(self):\n",
    "        self.tok = SimpleTokenizer()\n",
    "        self.lemm = SimpleLemmatizer()\n",
    "        self.dis = SimpleDisambiguator()\n",
    "        self.lemm.addWord('маму', ['Nfasa'])\n",
    "        \n",
    "    def analyze(self, text: str) -> list:\n",
    "        return self.dis.disambiguate(self.lemm.analyse(self.tok.tokenize(text)))\n",
    "    \n",
    "    def setLemmatizer(self, lm: SimpleLemmatizer) -> None:\n",
    "        self.lemm = lm\n",
    "        "
   ]
  },
  {
   "cell_type": "code",
   "execution_count": 399,
   "metadata": {},
   "outputs": [
    {
     "name": "stdout",
     "output_type": "stream",
     "text": [
      "['none']\n",
      "['Naafs']\n",
      "['none']\n"
     ]
    }
   ],
   "source": [
    "# Создадим два лематизатора.\n",
    "a = DummyPymorphyFacade()\n",
    "b = SimpleLemmatizer()\n",
    "# Создадим новый анализатор.\n",
    "c = TextAnalyser2()\n",
    "# Анализируем и меняем анализаторы.\n",
    "print(c.analyze('мамой'))\n",
    "c.setLemmatizer(a)\n",
    "print(c.analyze('мамой'))\n",
    "c.setLemmatizer(b)\n",
    "print(c.analyze('мамой'))\n"
   ]
  },
  {
   "cell_type": "markdown",
   "metadata": {},
   "source": [
    "Теперь представьте себе, что при создании объекта вы передаете ему объект, который будет читать для него данные. С одной стороны, первый объект не хранит все возможные форматы чтения данных. С другой стороны, он может быть динамично настроен на чтение любого известного нам формата."
   ]
  },
  {
   "cell_type": "markdown",
   "metadata": {},
   "source": [
    "<a name=\"abstractfactory\"></a>\n",
    "### Абстракная фабрика\n",
    "\n",
    "Абстрактная фабрика является единой точкой создания объектов, наследуемых от единого базового класса. За счет наследования, объекты поддерживают единый интерфейс. С некоторой точки зрения, нам не важно какому именно классу принадлежит данный объект, если он обеспечивает необходимую функциональность по заданному интерфейсу.\n",
    "\n",
    "В данном шаблоне проектирования создается базовый класс абстрактной фабрики, от которого наследуются фабрики конкретных классов. Абстрактная фабрика обеспечивает интерфейс создания объектов, производных от базового класса. Теперь для того, чтобы изменить производство объектов, нужно просто передать другую фабрику.\n",
    "\n",
    "Пример (взято с [https://refactoring.guru/ru/design-patterns/python](https://refactoring.guru/ru/design-patterns/python))"
   ]
  },
  {
   "cell_type": "code",
   "execution_count": 320,
   "metadata": {},
   "outputs": [],
   "source": [
    "from abc import ABC, abstractmethod\n"
   ]
  },
  {
   "cell_type": "code",
   "execution_count": 323,
   "metadata": {},
   "outputs": [],
   "source": [
    "class AbstractFactory(ABC):\n",
    "    \"\"\"\n",
    "    Интерфейс Абстрактной Фабрики объявляет набор методов, которые возвращают\n",
    "    различные абстрактные продукты. Эти продукты называются семейством и связаны\n",
    "    темой или концепцией высокого уровня. Продукты одного семейства обычно могут\n",
    "    взаимодействовать между собой. Семейство продуктов может иметь несколько\n",
    "    вариаций, но продукты одной вариации несовместимы с продуктами другой.\n",
    "    \"\"\"\n",
    "    @abstractmethod\n",
    "    def create_product_a(self):\n",
    "        pass\n",
    "\n",
    "    @abstractmethod\n",
    "    def create_product_b(self):\n",
    "        pass\n",
    "\n",
    "\n",
    "class ConcreteFactory1(AbstractFactory):\n",
    "    \"\"\"\n",
    "    Конкретная Фабрика производит семейство продуктов одной вариации. Фабрика\n",
    "    гарантирует совместимость полученных продуктов. Обратите внимание, что\n",
    "    сигнатуры методов Конкретной Фабрики возвращают абстрактный продукт, в то\n",
    "    время как внутри метода создается экземпляр конкретного продукта.\n",
    "    \"\"\"\n",
    "\n",
    "    def create_product_a(self):\n",
    "        return ConcreteProductA1()\n",
    "\n",
    "    def create_product_b(self):\n",
    "        return ConcreteProductB1()\n",
    "\n",
    "\n",
    "class ConcreteFactory2(AbstractFactory):\n",
    "    \"\"\"\n",
    "    Каждая Конкретная Фабрика имеет соответствующую вариацию продукта.\n",
    "    \"\"\"\n",
    "\n",
    "    def create_product_a(self):\n",
    "        return ConcreteProductA2()\n",
    "\n",
    "    def create_product_b(self):\n",
    "        return ConcreteProductB2()"
   ]
  },
  {
   "cell_type": "code",
   "execution_count": 324,
   "metadata": {},
   "outputs": [],
   "source": [
    "class AbstractProductA(ABC):\n",
    "    \"\"\"\n",
    "    Каждый отдельный продукт семейства продуктов должен иметь базовый интерфейс.\n",
    "    Все вариации продукта должны реализовывать этот интерфейс.\n",
    "    \"\"\"\n",
    "\n",
    "    @abstractmethod\n",
    "    def useful_function_a(self) -> str:\n",
    "        pass\n",
    "\n",
    "\n",
    "\"\"\"\n",
    "Конкретные продукты создаются соответствующими Конкретными Фабриками.\n",
    "\"\"\"\n",
    "\n",
    "\n",
    "class ConcreteProductA1(AbstractProductA):\n",
    "    def useful_function_a(self) -> str:\n",
    "        return \"The result of the product A1.\"\n",
    "\n",
    "\n",
    "class ConcreteProductA2(AbstractProductA):\n",
    "    def useful_function_a(self) -> str:\n",
    "        return \"The result of the product A2.\"\n",
    "\n",
    "\n",
    "class AbstractProductB(ABC):\n",
    "    \"\"\"\n",
    "    Базовый интерфейс другого продукта. Все продукты могут взаимодействовать\n",
    "    друг с другом, но правильное взаимодействие возможно только между продуктами\n",
    "    одной и той же конкретной вариации.\n",
    "    \"\"\"\n",
    "    @abstractmethod\n",
    "    def useful_function_b(self) -> None:\n",
    "        \"\"\"\n",
    "        Продукт B способен работать самостоятельно...\n",
    "        \"\"\"\n",
    "        pass\n",
    "\n",
    "    @abstractmethod\n",
    "    def another_useful_function_b(self, collaborator: AbstractProductA) -> None:\n",
    "        \"\"\"\n",
    "        ...а также взаимодействовать с Продуктами Б той же вариации.\n",
    "\n",
    "        Абстрактная Фабрика гарантирует, что все продукты, которые она создает,\n",
    "        имеют одинаковую вариацию и, следовательно, совместимы.\n",
    "        \"\"\"\n",
    "        pass\n",
    "\n",
    "\n",
    "\"\"\"\n",
    "Конкретные Продукты создаются соответствующими Конкретными Фабриками.\n",
    "\"\"\"\n",
    "\n",
    "\n",
    "class ConcreteProductB1(AbstractProductB):\n",
    "    def useful_function_b(self) -> str:\n",
    "        return \"The result of the product B1.\"\n",
    "\n",
    "    \"\"\"\n",
    "    Продукт B1 может корректно работать только с Продуктом A1. Тем не менее, он\n",
    "    принимает любой экземпляр Абстрактного Продукта А в качестве аргумента.\n",
    "    \"\"\"\n",
    "\n",
    "    def another_useful_function_b(self, collaborator: AbstractProductA) -> str:\n",
    "        result = collaborator.useful_function_a()\n",
    "        return f\"The result of the B1 collaborating with the ({result})\"\n",
    "\n",
    "\n",
    "class ConcreteProductB2(AbstractProductB):\n",
    "    def useful_function_b(self) -> str:\n",
    "        return \"The result of the product B2.\"\n",
    "\n",
    "    def another_useful_function_b(self, collaborator: AbstractProductA):\n",
    "        \"\"\"\n",
    "        Продукт B2 может корректно работать только с Продуктом A2. Тем не менее,\n",
    "        он принимает любой экземпляр Абстрактного Продукта А в качестве\n",
    "        аргумента.\n",
    "        \"\"\"\n",
    "        result = collaborator.useful_function_a()\n",
    "        return f\"The result of the B2 collaborating with the ({result})\""
   ]
  },
  {
   "cell_type": "code",
   "execution_count": 322,
   "metadata": {},
   "outputs": [
    {
     "name": "stdout",
     "output_type": "stream",
     "text": [
      "Client: Testing client code with the first factory type:\n",
      "The result of the product B1.\n",
      "The result of the B1 collaborating with the (The result of the product A1.)\n",
      "\n",
      "Client: Testing the same client code with the second factory type:\n",
      "The result of the product B2.\n",
      "The result of the B2 collaborating with the (The result of the product A2.)"
     ]
    }
   ],
   "source": [
    "def client_code(factory: AbstractFactory) -> None:\n",
    "    \"\"\"\n",
    "    Клиентский код работает с фабриками и продуктами только через абстрактные\n",
    "    типы: Абстрактная Фабрика и Абстрактный Продукт. Это позволяет передавать\n",
    "    любой подкласс фабрики или продукта клиентскому коду, не нарушая его.\n",
    "    \"\"\"\n",
    "    product_a = factory.create_product_a()\n",
    "    product_b = factory.create_product_b()\n",
    "\n",
    "    print(f\"{product_b.useful_function_b()}\")\n",
    "    print(f\"{product_b.another_useful_function_b(product_a)}\", end=\"\")\n",
    "\n",
    "\"\"\"\n",
    "Клиентский код может работать с любым конкретным классом фабрики.\n",
    "\"\"\"\n",
    "print(\"Client: Testing client code with the first factory type:\")\n",
    "client_code(ConcreteFactory1())\n",
    "\n",
    "print(\"\\n\")\n",
    "\n",
    "print(\"Client: Testing the same client code with the second factory type:\")\n",
    "client_code(ConcreteFactory2())"
   ]
  },
  {
   "cell_type": "markdown",
   "metadata": {},
   "source": [
    "Рассмотрим чуть более приземленный пример.\n",
    "\n",
    "Мы пишем стратегическую игру, в которой смена эпохи означает смену выпускаемых подразделений. Вместо того, чтобы создавать разные казармы для разных эпох, мы можем просто сменить фабрику классов у каждой казармы со старой на новую. Более того, мы можем проводить постепенное улучшение, сменяя фабрики классов по требованию пользователя. Используя инъекцию зависимостей мы можем менять поведение объекта.\n",
    "\n",
    "Аналогично, в зависимости от того, какой именно вид анализа проводится даным объектом, мы можем менять его фабрику классов, сотавляя интерфейс и часть функционала неизменными."
   ]
  },
  {
   "cell_type": "markdown",
   "metadata": {},
   "source": [
    "<a name=\"state\"></a>\n",
    "### Состояние\n",
    "\n",
    "Данный шаблон позволяет менять поведение объекта в зависимости от его состояния.\n",
    "\n",
    "Для реализации данного шаблона используется комбинация конечного автомата и инъекции зависимости. Для смены состояний используется конечный автомат, описывающий последовательность таких смен. Для изменения поведения автомата используется инъекция нового объекта вместо старого.\n",
    "\n",
    "Создадим класс машины, которая умеет включаться и выключаться. Создадим базовый класс состояния, от которого унаследуем состояние Включено и Выключено. Теперь во включенном состоянии машине будет присвоено значение Включено, в выключенном состоянии - Выключено, а при смене состояний мы будем осуществлять соответствующие действия и присваивать новое состояние."
   ]
  },
  {
   "cell_type": "code",
   "execution_count": 414,
   "metadata": {},
   "outputs": [],
   "source": [
    "# Базовый класс состояния.\n",
    "class State:\n",
    "    \n",
    "    # Функция включения.\n",
    "    def on(self, m):\n",
    "        print(\"   already ON\")\n",
    "        \n",
    "    # Функция выключения.\n",
    "    def off(self, m):\n",
    "        print(\"   already OFF\")\n",
    "\n",
    "# Класс для включенного состояния.\n",
    "class ON(State):\n",
    "    # Переопределяем только выключение. В функцию передается машина, ей можно будет переключить состояние.\n",
    "    def off(self, m):\n",
    "        print(\"   going from ON to OFF\")\n",
    "        m.setCurrentState(OFF());\n",
    "\n",
    "class OFF(State):\n",
    "    \n",
    "    # Переопределяем только включение. Аналогично, переключаем состояние.\n",
    "    def on(self, m):\n",
    "        print(\"   going from OFF to ON\")\n",
    "        m.setCurrentState(ON());\n",
    "\n",
    "# Класс машины.        \n",
    "class Machine:\n",
    "    \n",
    "    # Включена при создании.\n",
    "    def __init__(self):\n",
    "        self.current = ON()\n",
    "        \n",
    "    # Установка нового состояния\n",
    "    def setCurrentState(self, state: State):\n",
    "        self.current = state\n",
    "    \n",
    "    # Включаем. При включении будет заменено состояние, если машина была выключена.\n",
    "    def on(self):\n",
    "        self.current.on(self)\n",
    "        \n",
    "    # Выключаем. При выключении будет заменено состояние, если машина была выключена.\n",
    "    def off(self):\n",
    "        self.current.off(self)\n",
    "\n"
   ]
  },
  {
   "cell_type": "code",
   "execution_count": 415,
   "metadata": {},
   "outputs": [
    {
     "name": "stdout",
     "output_type": "stream",
     "text": [
      "   already ON\n",
      "   going from ON to OFF\n",
      "   already OFF\n",
      "   going from OFF to ON\n"
     ]
    }
   ],
   "source": [
    "m = Machine()\n",
    "m.on()\n",
    "m.off()\n",
    "m.off()\n",
    "m.on()"
   ]
  },
  {
   "cell_type": "markdown",
   "metadata": {},
   "source": [
    "<a name=\"builder\"></a>\n",
    "### Строитель\n",
    "\n",
    "Данный шаблон позволяет создавать сложный объект по мере поступления ресурсов.\n",
    "\n",
    "Если мы совместим данный шаблон с шаблоном Состояние, то можно будет накапливать ресурсы или тратить их на производство продукции в зависимости от текущего состояния.\n",
    "\n",
    "**Плюсы**:\n",
    "- Возможность контролировать процесс создания сложного продукта.\n",
    "- Возможность получения разных представлений некоторых данных.\n",
    "\n",
    "**Минусы**:\n",
    "ConcreteBuilder и создаваемый им продукт жестко связаны между собой, поэтому при внесении изменений в класс продукта скорее всего придется соответствующим образом изменять и класс ConcreteBuilder.\n",
    "\n",
    "Пример взят с [https://refactoring.guru/ru/design-patterns/builder/python/example#lang-features](https://refactoring.guru/ru/design-patterns/builder/python/example#lang-features)"
   ]
  },
  {
   "cell_type": "code",
   "execution_count": 417,
   "metadata": {},
   "outputs": [],
   "source": [
    "from abc import ABC, abstractmethod, abstractproperty"
   ]
  },
  {
   "cell_type": "code",
   "execution_count": null,
   "metadata": {},
   "outputs": [],
   "source": [
    "# Заведем абстрактного строителя.\n",
    "class Builder(ABC):\n",
    "    \"\"\"\n",
    "    Интерфейс Строителя объявляет создающие методы для различных частей объектов\n",
    "    Продуктов.\n",
    "    \"\"\"\n",
    "\n",
    "    @abstractproperty\n",
    "    def product(self) -> None:\n",
    "        pass\n",
    "\n",
    "    @abstractmethod\n",
    "    def produce_part_a(self) -> None:\n",
    "        pass\n",
    "\n",
    "    @abstractmethod\n",
    "    def produce_part_b(self) -> None:\n",
    "        pass\n",
    "\n",
    "    @abstractmethod\n",
    "    def produce_part_c(self) -> None:\n",
    "        pass\n",
    "\n",
    "\n",
    "# Заведем конкретного строителя.\n",
    "class ConcreteBuilder1(Builder):\n",
    "    \"\"\"\n",
    "    Классы Конкретного Строителя следуют интерфейсу Строителя и предоставляют\n",
    "    конкретные реализации шагов построения. Ваша программа может иметь несколько\n",
    "    вариантов Строителей, реализованных по-разному.\n",
    "    \"\"\"\n",
    "\n",
    "    def __init__(self) -> None:\n",
    "        \"\"\"\n",
    "        Новый экземпляр строителя должен содержать пустой объект продукта,\n",
    "        который используется в дальнейшей сборке.\n",
    "        \"\"\"\n",
    "        self.reset()\n",
    "\n",
    "    def reset(self) -> None:\n",
    "        self._product = Product1()\n",
    "\n",
    "    @property\n",
    "    def product(self):\n",
    "        \"\"\"\n",
    "        Конкретные Строители должны предоставить свои собственные методы\n",
    "        получения результатов. Это связано с тем, что различные типы строителей\n",
    "        могут создавать совершенно разные продукты с разными интерфейсами.\n",
    "        Поэтому такие методы не могут быть объявлены в базовом интерфейсе\n",
    "        Строителя (по крайней мере, в статически типизированном языке\n",
    "        программирования).\n",
    "\n",
    "        Как правило, после возвращения конечного результата клиенту, экземпляр\n",
    "        строителя должен быть готов к началу производства следующего продукта.\n",
    "        Поэтому обычной практикой является вызов метода сброса в конце тела\n",
    "        метода getProduct. Однако такое поведение не является обязательным, вы\n",
    "        можете заставить своих строителей ждать явного запроса на сброс из кода\n",
    "        клиента, прежде чем избавиться от предыдущего результата.\n",
    "        \"\"\"\n",
    "        product = self._product\n",
    "        self.reset()\n",
    "        return product\n",
    "\n",
    "    def produce_part_a(self) -> None:\n",
    "        self._product.add(\"PartA1\")\n",
    "\n",
    "    def produce_part_b(self) -> None:\n",
    "        self._product.add(\"PartB1\")\n",
    "\n",
    "    def produce_part_c(self) -> None:\n",
    "        self._product.add(\"PartC1\")"
   ]
  },
  {
   "cell_type": "code",
   "execution_count": null,
   "metadata": {},
   "outputs": [],
   "source": [
    "class Product1():\n",
    "    \"\"\"\n",
    "    Имеет смысл использовать паттерн Строитель только тогда, когда ваши продукты\n",
    "    достаточно сложны и требуют обширной конфигурации.\n",
    "\n",
    "    В отличие от других порождающих паттернов, различные конкретные строители\n",
    "    могут производить несвязанные продукты. Другими словами, результаты\n",
    "    различных строителей могут не всегда следовать одному и тому же интерфейсу.\n",
    "    \"\"\"\n",
    "\n",
    "    def __init__(self) -> None:\n",
    "        self.parts = []\n",
    "\n",
    "    def add(self, part) -> None:\n",
    "        self.parts.append(part)\n",
    "\n",
    "    def list_parts(self) -> None:\n",
    "        print(f\"Product parts: {', '.join(self.parts)}\", end=\"\")\n",
    "\n",
    "\n",
    "class Director:\n",
    "    \"\"\"\n",
    "    Директор отвечает только за выполнение шагов построения в определённой\n",
    "    последовательности. Это полезно при производстве продуктов в определённом\n",
    "    порядке или особой конфигурации. Строго говоря, класс Директор необязателен,\n",
    "    так как клиент может напрямую управлять строителями.\n",
    "    \"\"\"\n",
    "\n",
    "    def __init__(self) -> None:\n",
    "        self._builder = None\n",
    "\n",
    "    @property\n",
    "    def builder(self) -> Builder:\n",
    "        return self._builder\n",
    "\n",
    "    @builder.setter\n",
    "    def builder(self, builder: Builder) -> None:\n",
    "        \"\"\"\n",
    "        Директор работает с любым экземпляром строителя, который передаётся ему\n",
    "        клиентским кодом. Таким образом, клиентский код может изменить конечный\n",
    "        тип вновь собираемого продукта.\n",
    "        \"\"\"\n",
    "        self._builder = builder\n",
    "\n",
    "    \"\"\"\n",
    "    Директор может строить несколько вариаций продукта, используя одинаковые\n",
    "    шаги построения.\n",
    "    \"\"\"\n",
    "\n",
    "    def build_minimal_viable_product(self) -> None:\n",
    "        self.builder.produce_part_a()\n",
    "\n",
    "    def build_full_featured_product(self) -> None:\n",
    "        self.builder.produce_part_a()\n",
    "        self.builder.produce_part_b()\n",
    "        self.builder.produce_part_c()"
   ]
  },
  {
   "cell_type": "code",
   "execution_count": 420,
   "metadata": {},
   "outputs": [
    {
     "name": "stdout",
     "output_type": "stream",
     "text": [
      "Standard basic product: \n",
      "Product parts: PartA1\n",
      "\n",
      "Standard full featured product: \n",
      "Product parts: PartA1, PartB1, PartC1\n",
      "\n",
      "Custom product: \n",
      "Product parts: PartA1, PartB1"
     ]
    }
   ],
   "source": [
    "\"\"\"\n",
    "Клиентский код создаёт объект-строитель, передаёт его директору, а затем\n",
    "инициирует процесс построения. Конечный результат извлекается из объекта-\n",
    "строителя.\n",
    "\"\"\"\n",
    "\n",
    "director = Director()\n",
    "builder = ConcreteBuilder1()\n",
    "director.builder = builder\n",
    "\n",
    "print(\"Standard basic product: \")\n",
    "director.build_minimal_viable_product()\n",
    "builder.product.list_parts()\n",
    "\n",
    "print(\"\\n\")\n",
    "\n",
    "print(\"Standard full featured product: \")\n",
    "director.build_full_featured_product()\n",
    "builder.product.list_parts()\n",
    "\n",
    "print(\"\\n\")\n",
    "\n",
    "# Помните, что паттерн Строитель можно использовать без класса Директор.\n",
    "print(\"Custom product: \")\n",
    "builder.produce_part_a()\n",
    "builder.produce_part_b()\n",
    "builder.product.list_parts()"
   ]
  },
  {
   "cell_type": "markdown",
   "metadata": {},
   "source": [
    "Пример из стратегической игры."
   ]
  },
  {
   "cell_type": "code",
   "execution_count": 438,
   "metadata": {},
   "outputs": [],
   "source": [
    "# Куча подразделений, которые что-то там умеют.\n",
    "class Unit:\n",
    "    \n",
    "    def __init__(self):\n",
    "        self.coord = (0, 0)\n",
    "        self.strenght = 10\n",
    "        self.attackStr = 1\n",
    "        self.name = ChrCounter().get_id()\n",
    "        \n",
    "    def move(self, direction):\n",
    "        self.coord += direction\n",
    "        \n",
    "    def attack(self, other):\n",
    "        other.strenght -= self.attackStr\n",
    "        \n",
    "class Infantry(Unit):\n",
    "\n",
    "    def __repr__(self):\n",
    "        return \"Infantry \"+self.name\n",
    "\n",
    "class Archer(Unit):\n",
    "    def __init__(self):\n",
    "        self.coord = (0, 0)\n",
    "        self.strenght = 5\n",
    "        self.attackStr = 2\n",
    "        self.name = ChrCounter().get_id()\n",
    "\n",
    "    def __repr__(self):\n",
    "        return \"Archer \"+self.name\n",
    "        \n",
    "class Chievalery(Unit):\n",
    "    def __init__(self):\n",
    "        self.coord = (0, 0)\n",
    "        self.strenght = 15\n",
    "        self.attackStr = 2\n",
    "        self.name = ChrCounter().get_id()\n",
    "        \n",
    "    def move(self, direction):\n",
    "        self.coord += 2 * direction\n",
    "\n",
    "    def __repr__(self):\n",
    "        return \"Chivalery \"+self.name\n",
    "        \n",
    "class Army:\n",
    "    def __init__(self):\n",
    "        self.army = []\n",
    "        \n",
    "    def addUnit(self, unit: Unit):\n",
    "        self.army.append(unit)\n",
    "        \n",
    "# Строитель армии. Он умеет только формировать армию из создаваемых подразделений.\n",
    "class ArmyBuilder:\n",
    "    \n",
    "    def __init__(self):\n",
    "        self.p = None\n",
    "        \n",
    "    def createArmy(self):\n",
    "        self.p = Army()\n",
    "        \n",
    "    def buildInfantry(self):\n",
    "        self.p.addUnit(Infantry())\n",
    "        \n",
    "    def buildArcher(self):\n",
    "        self.p.addUnit(Archer())\n",
    "    \n",
    "    def buildChievalery(self):\n",
    "        self.p.addUnit(Chievalery())\n",
    "    \n",
    "    def getArmy(self):\n",
    "        r = self.p\n",
    "        self.p = None\n",
    "        return r\n",
    "\n",
    "# Этот класс умеет создавать подразделения и добавлять их в армию. \n",
    "# Возвращает готовую армию, построенную ArmyBuilder.\n",
    "class Director:\n",
    "    def createArmy(self, builder: ArmyBuilder) -> Army:\n",
    "        builder.createArmy()\n",
    "        builder.buildInfantry()\n",
    "        builder.buildInfantry()\n",
    "        builder.buildInfantry()\n",
    "        builder.buildArcher()\n",
    "        builder.buildArcher()\n",
    "        builder.buildChievalery()\n",
    "        return builder.getArmy()\n"
   ]
  },
  {
   "cell_type": "code",
   "execution_count": 439,
   "metadata": {},
   "outputs": [
    {
     "data": {
      "text/plain": [
       "[Infantry UD, Infantry UE, Infantry UF, Archer UG, Archer UH, Chivalery UI]"
      ]
     },
     "execution_count": 439,
     "metadata": {},
     "output_type": "execute_result"
    }
   ],
   "source": [
    "\n",
    "a = Director().createArmy(ArmyBuilder())\n",
    "a.army"
   ]
  },
  {
   "cell_type": "code",
   "execution_count": null,
   "metadata": {},
   "outputs": [],
   "source": []
  }
 ],
 "metadata": {
  "kernelspec": {
   "display_name": "Python 3 (ipykernel)",
   "language": "python",
   "name": "python3"
  },
  "language_info": {
   "codemirror_mode": {
    "name": "ipython",
    "version": 3
   },
   "file_extension": ".py",
   "mimetype": "text/x-python",
   "name": "python",
   "nbconvert_exporter": "python",
   "pygments_lexer": "ipython3",
   "version": "3.9.5"
  }
 },
 "nbformat": 4,
 "nbformat_minor": 2
}
