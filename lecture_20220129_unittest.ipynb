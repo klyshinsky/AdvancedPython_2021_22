{
 "cells": [
  {
   "cell_type": "markdown",
   "metadata": {},
   "source": [
    "## Принципы SOLID при разработке программного обеспечения\n",
    "\n",
    "> Если вы обнаружили, что в блоке кода, который вы хотите протестировать, много побочных эффектов, значит вы нарушаете <a href=\"https://ru.wikipedia.org/wiki/%D0%9F%D1%80%D0%B8%D0%BD%D1%86%D0%B8%D0%BF_%D0%B5%D0%B4%D0%B8%D0%BD%D1%81%D1%82%D0%B2%D0%B5%D0%BD%D0%BD%D0%BE%D0%B9_%D0%BE%D1%82%D0%B2%D0%B5%D1%82%D1%81%D1%82%D0%B2%D0%B5%D0%BD%D0%BD%D0%BE%D1%81%D1%82%D0%B8\">Принцип Единственной Ответственности</a>. Нарушение принципа единственной ответственности означает, что фрагмент кода делает слишком много вещей и требует рефакторинга. Следование принципу единственной ответственности — отличный способ проектирования кода, для которого не составит труда писать простые повторяемые модульные тесты, и, в конечном счете, создания надежных приложений.  \n",
    "\n",
    "<div align=\"right\"><a href=\"https://habr.com/ru/company/otus/blog/433358/\">https://habr.com/ru/company/otus/blog/433358/</a></div>\n",
    "\n",
    "Принцип единой ответственности относится к [принципам](https://habr.com/ru/post/446816/) [SOLID](https://habr.com/ru/company/ruvds/blog/426413/) ([и вот ещё](https://habr.com/ru/company/mailru/blog/412699/)), помогающим писать хороший код на основе объектно-ориентированной парадигмы.\n",
    "\n",
    "![](img/lbzrqyibpifgxpgagwl44tgw7gu.png)\n",
    "\n"
   ]
  },
  {
   "cell_type": "markdown",
   "metadata": {},
   "source": [
    "## Работа с файлами конфигурации\n",
    "\n",
    "Документация на [ConfigParser](https://docs.python.org/3/library/configparser.html)."
   ]
  },
  {
   "cell_type": "code",
   "execution_count": 1,
   "metadata": {},
   "outputs": [],
   "source": [
    "import configparser"
   ]
  },
  {
   "cell_type": "code",
   "execution_count": 4,
   "metadata": {},
   "outputs": [],
   "source": [
    "config = configparser.ConfigParser()\n",
    "config['DEFAULT'] = {'ServerAliveInterval': '45',\n",
    "                     'Compression': 'yes',\n",
    "                     'CompressionLevel': '9'}\n",
    "config['bitbucket.org'] = {}\n",
    "config['bitbucket.org']['User'] = 'hg'\n",
    "config['topsecret.server.com'] = {}\n",
    "topsecret = config['topsecret.server.com']\n",
    "topsecret['Port'] = '50022'     \n",
    "topsecret['Port2'] = '500221'\n",
    "topsecret['ForwardX11'] = 'no'  \n",
    "config['DEFAULT']['ForwardX11'] = 'yes'\n",
    "with open('data/example.ini', 'w') as configfile:\n",
    "    config.write(configfile)"
   ]
  },
  {
   "cell_type": "code",
   "execution_count": 5,
   "metadata": {},
   "outputs": [
    {
     "name": "stdout",
     "output_type": "stream",
     "text": [
      "[DEFAULT]\r\n",
      "serveraliveinterval = 45\r\n",
      "compression = yes\r\n",
      "compressionlevel = 9\r\n",
      "forwardx11 = yes\r\n",
      "\r\n",
      "[bitbucket.org]\r\n",
      "user = hg\r\n",
      "\r\n",
      "[topsecret.server.com]\r\n",
      "port = 50022\r\n",
      "port2 = 500221\r\n",
      "forwardx11 = no\r\n",
      "\r\n"
     ]
    }
   ],
   "source": [
    "%cat data/example.ini"
   ]
  },
  {
   "cell_type": "code",
   "execution_count": 6,
   "metadata": {},
   "outputs": [
    {
     "name": "stdout",
     "output_type": "stream",
     "text": [
      "Sections: ['bitbucket.org', 'topsecret.server.com']\n",
      "If 'bitbucket.org' section is here: True\n",
      "If 'bitbucket.com' section is here: False\n",
      "bitbucket.org - User value: hg\n",
      "DEFAULT - Compression value: yes\n",
      "topsecret.server.com - ForwardX11 no\n",
      "bitbucket.org keys and values\n",
      "    user                : hg\n",
      "    serveraliveinterval : 45\n",
      "    compression         : yes\n",
      "    compressionlevel    : 9\n",
      "    forwardx11          : yes\n"
     ]
    }
   ],
   "source": [
    "config = configparser.ConfigParser()\n",
    "config.read('data/example.ini')\n",
    "print(\"Sections:\", config.sections())\n",
    "print(\"If 'bitbucket.org' section is here:\", 'bitbucket.org' in config)\n",
    "print(\"If 'bitbucket.com' section is here:\", 'bitbucket.com' in config)\n",
    "print(\"bitbucket.org - User value:\", config['bitbucket.org']['User'])\n",
    "print(\"DEFAULT - Compression value:\", config['DEFAULT']['Compression'])\n",
    "topsecret = config['topsecret.server.com']\n",
    "print(\"topsecret.server.com - ForwardX11\", topsecret['ForwardX11'])\n",
    "print(\"bitbucket.org keys and values\")\n",
    "for key in config['bitbucket.org']:\n",
    "    print(f\"    {key:20}: {config['bitbucket.org'][key]}\")\n"
   ]
  },
  {
   "cell_type": "code",
   "execution_count": 7,
   "metadata": {},
   "outputs": [
    {
     "name": "stdout",
     "output_type": "stream",
     "text": [
      "getting values:  yes 500221\n"
     ]
    }
   ],
   "source": [
    "config = configparser.ConfigParser()\n",
    "\n",
    "#config.add_section(\"DEFAULT\")\n",
    "config.set(\"DEFAULT\", \"serveraliveinterval\", \"55\")\n",
    "config.set(\"DEFAULT\", \"compression\", \"yes\")\n",
    "config.set(\"DEFAULT\", \"compressionlevel\", \"9\")\n",
    "config.set(\"DEFAULT\", \"forwardx11\", \"yes\")\n",
    "config.add_section(\"bitbucket.org\")\n",
    "config.set(\"bitbucket.org\", \"user\", \"hg\")\n",
    "config.add_section(\"topsecret.server.com\")\n",
    "config.set(\"topsecret.server.com\", \"port\", \"500221\")\n",
    "config.set(\"topsecret.server.com\", \"forwardx11\", \"no\")\n",
    "\n",
    "with open(\"data/example.ini\", \"w\") as config_file:\n",
    "    config.write(config_file)\n",
    "    \n",
    "print(\"getting values: \", config.get(\"DEFAULT\", \"compression\"),\n",
    "      config.get(\"topsecret.server.com\", \"port\"))"
   ]
  },
  {
   "cell_type": "code",
   "execution_count": 8,
   "metadata": {},
   "outputs": [
    {
     "name": "stdout",
     "output_type": "stream",
     "text": [
      "[DEFAULT]\r\n",
      "serveraliveinterval = 55\r\n",
      "compression = yes\r\n",
      "compressionlevel = 9\r\n",
      "forwardx11 = yes\r\n",
      "\r\n",
      "[bitbucket.org]\r\n",
      "user = hg\r\n",
      "\r\n",
      "[topsecret.server.com]\r\n",
      "port = 500221\r\n",
      "forwardx11 = no\r\n",
      "\r\n"
     ]
    }
   ],
   "source": [
    "%cat data/example.ini"
   ]
  },
  {
   "cell_type": "markdown",
   "metadata": {},
   "source": [
    "Все значения должны иметь строковый тип."
   ]
  },
  {
   "cell_type": "code",
   "execution_count": 9,
   "metadata": {},
   "outputs": [
    {
     "ename": "TypeError",
     "evalue": "option values must be strings",
     "output_type": "error",
     "traceback": [
      "\u001b[0;31m---------------------------------------------------------------------------\u001b[0m",
      "\u001b[0;31mTypeError\u001b[0m                                 Traceback (most recent call last)",
      "\u001b[0;32m/tmp/ipykernel_146427/504641927.py\u001b[0m in \u001b[0;36m<module>\u001b[0;34m\u001b[0m\n\u001b[0;32m----> 1\u001b[0;31m \u001b[0mconfig\u001b[0m\u001b[0;34m.\u001b[0m\u001b[0mset\u001b[0m\u001b[0;34m(\u001b[0m\u001b[0;34m\"DEFAULT\"\u001b[0m\u001b[0;34m,\u001b[0m \u001b[0;34m\"serveraliveinterval\"\u001b[0m\u001b[0;34m,\u001b[0m \u001b[0;36m55\u001b[0m\u001b[0;34m)\u001b[0m\u001b[0;34m\u001b[0m\u001b[0;34m\u001b[0m\u001b[0m\n\u001b[0m",
      "\u001b[0;32m/usr/lib/python3.9/configparser.py\u001b[0m in \u001b[0;36mset\u001b[0;34m(self, section, option, value)\u001b[0m\n\u001b[1;32m   1198\u001b[0m         \"\"\"Set an option.  Extends RawConfigParser.set by validating type and\n\u001b[1;32m   1199\u001b[0m         interpolation syntax on the value.\"\"\"\n\u001b[0;32m-> 1200\u001b[0;31m         \u001b[0mself\u001b[0m\u001b[0;34m.\u001b[0m\u001b[0m_validate_value_types\u001b[0m\u001b[0;34m(\u001b[0m\u001b[0moption\u001b[0m\u001b[0;34m=\u001b[0m\u001b[0moption\u001b[0m\u001b[0;34m,\u001b[0m \u001b[0mvalue\u001b[0m\u001b[0;34m=\u001b[0m\u001b[0mvalue\u001b[0m\u001b[0;34m)\u001b[0m\u001b[0;34m\u001b[0m\u001b[0;34m\u001b[0m\u001b[0m\n\u001b[0m\u001b[1;32m   1201\u001b[0m         \u001b[0msuper\u001b[0m\u001b[0;34m(\u001b[0m\u001b[0;34m)\u001b[0m\u001b[0;34m.\u001b[0m\u001b[0mset\u001b[0m\u001b[0;34m(\u001b[0m\u001b[0msection\u001b[0m\u001b[0;34m,\u001b[0m \u001b[0moption\u001b[0m\u001b[0;34m,\u001b[0m \u001b[0mvalue\u001b[0m\u001b[0;34m)\u001b[0m\u001b[0;34m\u001b[0m\u001b[0;34m\u001b[0m\u001b[0m\n\u001b[1;32m   1202\u001b[0m \u001b[0;34m\u001b[0m\u001b[0m\n",
      "\u001b[0;32m/usr/lib/python3.9/configparser.py\u001b[0m in \u001b[0;36m_validate_value_types\u001b[0;34m(self, section, option, value)\u001b[0m\n\u001b[1;32m   1183\u001b[0m         \u001b[0;32mif\u001b[0m \u001b[0;32mnot\u001b[0m \u001b[0mself\u001b[0m\u001b[0;34m.\u001b[0m\u001b[0m_allow_no_value\u001b[0m \u001b[0;32mor\u001b[0m \u001b[0mvalue\u001b[0m\u001b[0;34m:\u001b[0m\u001b[0;34m\u001b[0m\u001b[0;34m\u001b[0m\u001b[0m\n\u001b[1;32m   1184\u001b[0m             \u001b[0;32mif\u001b[0m \u001b[0;32mnot\u001b[0m \u001b[0misinstance\u001b[0m\u001b[0;34m(\u001b[0m\u001b[0mvalue\u001b[0m\u001b[0;34m,\u001b[0m \u001b[0mstr\u001b[0m\u001b[0;34m)\u001b[0m\u001b[0;34m:\u001b[0m\u001b[0;34m\u001b[0m\u001b[0;34m\u001b[0m\u001b[0m\n\u001b[0;32m-> 1185\u001b[0;31m                 \u001b[0;32mraise\u001b[0m \u001b[0mTypeError\u001b[0m\u001b[0;34m(\u001b[0m\u001b[0;34m\"option values must be strings\"\u001b[0m\u001b[0;34m)\u001b[0m\u001b[0;34m\u001b[0m\u001b[0;34m\u001b[0m\u001b[0m\n\u001b[0m\u001b[1;32m   1186\u001b[0m \u001b[0;34m\u001b[0m\u001b[0m\n\u001b[1;32m   1187\u001b[0m     \u001b[0;34m@\u001b[0m\u001b[0mproperty\u001b[0m\u001b[0;34m\u001b[0m\u001b[0;34m\u001b[0m\u001b[0m\n",
      "\u001b[0;31mTypeError\u001b[0m: option values must be strings"
     ]
    }
   ],
   "source": [
    "config.set(\"DEFAULT\", \"serveraliveinterval\", 55)"
   ]
  },
  {
   "cell_type": "markdown",
   "metadata": {},
   "source": [
    "Секция DEFAULT должна указываться явно."
   ]
  },
  {
   "cell_type": "code",
   "execution_count": 50,
   "metadata": {},
   "outputs": [
    {
     "ename": "TypeError",
     "evalue": "option values must be strings",
     "output_type": "error",
     "traceback": [
      "\u001b[0;31m---------------------------------------------------------------------------\u001b[0m",
      "\u001b[0;31mTypeError\u001b[0m                                 Traceback (most recent call last)",
      "\u001b[0;32m<ipython-input-50-4ded14c8ab1c>\u001b[0m in \u001b[0;36m<module>\u001b[0;34m\u001b[0m\n\u001b[0;32m----> 1\u001b[0;31m \u001b[0mconfig\u001b[0m\u001b[0;34m.\u001b[0m\u001b[0mset\u001b[0m\u001b[0;34m(\u001b[0m\u001b[0;34m\"serveraliveinterval\"\u001b[0m\u001b[0;34m,\u001b[0m \u001b[0;34m\"55\"\u001b[0m\u001b[0;34m)\u001b[0m\u001b[0;34m\u001b[0m\u001b[0;34m\u001b[0m\u001b[0m\n\u001b[0m",
      "\u001b[0;32m/usr/lib/python3.6/configparser.py\u001b[0m in \u001b[0;36mset\u001b[0;34m(self, section, option, value)\u001b[0m\n\u001b[1;32m   1190\u001b[0m         \"\"\"Set an option.  Extends RawConfigParser.set by validating type and\n\u001b[1;32m   1191\u001b[0m         interpolation syntax on the value.\"\"\"\n\u001b[0;32m-> 1192\u001b[0;31m         \u001b[0mself\u001b[0m\u001b[0;34m.\u001b[0m\u001b[0m_validate_value_types\u001b[0m\u001b[0;34m(\u001b[0m\u001b[0moption\u001b[0m\u001b[0;34m=\u001b[0m\u001b[0moption\u001b[0m\u001b[0;34m,\u001b[0m \u001b[0mvalue\u001b[0m\u001b[0;34m=\u001b[0m\u001b[0mvalue\u001b[0m\u001b[0;34m)\u001b[0m\u001b[0;34m\u001b[0m\u001b[0;34m\u001b[0m\u001b[0m\n\u001b[0m\u001b[1;32m   1193\u001b[0m         \u001b[0msuper\u001b[0m\u001b[0;34m(\u001b[0m\u001b[0;34m)\u001b[0m\u001b[0;34m.\u001b[0m\u001b[0mset\u001b[0m\u001b[0;34m(\u001b[0m\u001b[0msection\u001b[0m\u001b[0;34m,\u001b[0m \u001b[0moption\u001b[0m\u001b[0;34m,\u001b[0m \u001b[0mvalue\u001b[0m\u001b[0;34m)\u001b[0m\u001b[0;34m\u001b[0m\u001b[0;34m\u001b[0m\u001b[0m\n\u001b[1;32m   1194\u001b[0m \u001b[0;34m\u001b[0m\u001b[0m\n",
      "\u001b[0;32m/usr/lib/python3.6/configparser.py\u001b[0m in \u001b[0;36m_validate_value_types\u001b[0;34m(self, section, option, value)\u001b[0m\n\u001b[1;32m   1175\u001b[0m         \u001b[0;32mif\u001b[0m \u001b[0;32mnot\u001b[0m \u001b[0mself\u001b[0m\u001b[0;34m.\u001b[0m\u001b[0m_allow_no_value\u001b[0m \u001b[0;32mor\u001b[0m \u001b[0mvalue\u001b[0m\u001b[0;34m:\u001b[0m\u001b[0;34m\u001b[0m\u001b[0;34m\u001b[0m\u001b[0m\n\u001b[1;32m   1176\u001b[0m             \u001b[0;32mif\u001b[0m \u001b[0;32mnot\u001b[0m \u001b[0misinstance\u001b[0m\u001b[0;34m(\u001b[0m\u001b[0mvalue\u001b[0m\u001b[0;34m,\u001b[0m \u001b[0mstr\u001b[0m\u001b[0;34m)\u001b[0m\u001b[0;34m:\u001b[0m\u001b[0;34m\u001b[0m\u001b[0;34m\u001b[0m\u001b[0m\n\u001b[0;32m-> 1177\u001b[0;31m                 \u001b[0;32mraise\u001b[0m \u001b[0mTypeError\u001b[0m\u001b[0;34m(\u001b[0m\u001b[0;34m\"option values must be strings\"\u001b[0m\u001b[0;34m)\u001b[0m\u001b[0;34m\u001b[0m\u001b[0;34m\u001b[0m\u001b[0m\n\u001b[0m\u001b[1;32m   1178\u001b[0m \u001b[0;34m\u001b[0m\u001b[0m\n\u001b[1;32m   1179\u001b[0m     \u001b[0;34m@\u001b[0m\u001b[0mproperty\u001b[0m\u001b[0;34m\u001b[0m\u001b[0;34m\u001b[0m\u001b[0m\n",
      "\u001b[0;31mTypeError\u001b[0m: option values must be strings"
     ]
    }
   ],
   "source": [
    "config.set(\"serveraliveinterval\", \"55\")\n"
   ]
  },
  {
   "cell_type": "markdown",
   "metadata": {},
   "source": [
    "Секция DEFAULT должна указываться явно даже при чтении."
   ]
  },
  {
   "cell_type": "code",
   "execution_count": 10,
   "metadata": {},
   "outputs": [
    {
     "ename": "NoSectionError",
     "evalue": "No section: 'serveraliveinterval'",
     "output_type": "error",
     "traceback": [
      "\u001b[0;31m---------------------------------------------------------------------------\u001b[0m",
      "\u001b[0;31mNoSectionError\u001b[0m                            Traceback (most recent call last)",
      "\u001b[0;32m/tmp/ipykernel_146427/2843896434.py\u001b[0m in \u001b[0;36m<module>\u001b[0;34m\u001b[0m\n\u001b[0;32m----> 1\u001b[0;31m \u001b[0mconfig\u001b[0m\u001b[0;34m.\u001b[0m\u001b[0mget\u001b[0m\u001b[0;34m(\u001b[0m\u001b[0;34m\"serveraliveinterval\"\u001b[0m\u001b[0;34m,\u001b[0m \u001b[0;34m\"55\"\u001b[0m\u001b[0;34m)\u001b[0m\u001b[0;34m\u001b[0m\u001b[0;34m\u001b[0m\u001b[0m\n\u001b[0m",
      "\u001b[0;32m/usr/lib/python3.9/configparser.py\u001b[0m in \u001b[0;36mget\u001b[0;34m(self, section, option, raw, vars, fallback)\u001b[0m\n\u001b[1;32m    779\u001b[0m         \"\"\"\n\u001b[1;32m    780\u001b[0m         \u001b[0;32mtry\u001b[0m\u001b[0;34m:\u001b[0m\u001b[0;34m\u001b[0m\u001b[0;34m\u001b[0m\u001b[0m\n\u001b[0;32m--> 781\u001b[0;31m             \u001b[0md\u001b[0m \u001b[0;34m=\u001b[0m \u001b[0mself\u001b[0m\u001b[0;34m.\u001b[0m\u001b[0m_unify_values\u001b[0m\u001b[0;34m(\u001b[0m\u001b[0msection\u001b[0m\u001b[0;34m,\u001b[0m \u001b[0mvars\u001b[0m\u001b[0;34m)\u001b[0m\u001b[0;34m\u001b[0m\u001b[0;34m\u001b[0m\u001b[0m\n\u001b[0m\u001b[1;32m    782\u001b[0m         \u001b[0;32mexcept\u001b[0m \u001b[0mNoSectionError\u001b[0m\u001b[0;34m:\u001b[0m\u001b[0;34m\u001b[0m\u001b[0;34m\u001b[0m\u001b[0m\n\u001b[1;32m    783\u001b[0m             \u001b[0;32mif\u001b[0m \u001b[0mfallback\u001b[0m \u001b[0;32mis\u001b[0m \u001b[0m_UNSET\u001b[0m\u001b[0;34m:\u001b[0m\u001b[0;34m\u001b[0m\u001b[0;34m\u001b[0m\u001b[0m\n",
      "\u001b[0;32m/usr/lib/python3.9/configparser.py\u001b[0m in \u001b[0;36m_unify_values\u001b[0;34m(self, section, vars)\u001b[0m\n\u001b[1;32m   1147\u001b[0m         \u001b[0;32mexcept\u001b[0m \u001b[0mKeyError\u001b[0m\u001b[0;34m:\u001b[0m\u001b[0;34m\u001b[0m\u001b[0;34m\u001b[0m\u001b[0m\n\u001b[1;32m   1148\u001b[0m             \u001b[0;32mif\u001b[0m \u001b[0msection\u001b[0m \u001b[0;34m!=\u001b[0m \u001b[0mself\u001b[0m\u001b[0;34m.\u001b[0m\u001b[0mdefault_section\u001b[0m\u001b[0;34m:\u001b[0m\u001b[0;34m\u001b[0m\u001b[0;34m\u001b[0m\u001b[0m\n\u001b[0;32m-> 1149\u001b[0;31m                 \u001b[0;32mraise\u001b[0m \u001b[0mNoSectionError\u001b[0m\u001b[0;34m(\u001b[0m\u001b[0msection\u001b[0m\u001b[0;34m)\u001b[0m \u001b[0;32mfrom\u001b[0m \u001b[0;32mNone\u001b[0m\u001b[0;34m\u001b[0m\u001b[0;34m\u001b[0m\u001b[0m\n\u001b[0m\u001b[1;32m   1150\u001b[0m         \u001b[0;31m# Update with the entry specific variables\u001b[0m\u001b[0;34m\u001b[0m\u001b[0;34m\u001b[0m\u001b[0;34m\u001b[0m\u001b[0m\n\u001b[1;32m   1151\u001b[0m         \u001b[0mvardict\u001b[0m \u001b[0;34m=\u001b[0m \u001b[0;34m{\u001b[0m\u001b[0;34m}\u001b[0m\u001b[0;34m\u001b[0m\u001b[0;34m\u001b[0m\u001b[0m\n",
      "\u001b[0;31mNoSectionError\u001b[0m: No section: 'serveraliveinterval'"
     ]
    }
   ],
   "source": [
    "config.get(\"serveraliveinterval\", \"55\")\n"
   ]
  },
  {
   "cell_type": "markdown",
   "metadata": {},
   "source": [
    "Вложенные секции разрешены."
   ]
  },
  {
   "cell_type": "markdown",
   "metadata": {},
   "source": [
    "Секции и значения можно удалять.\n",
    "\n",
    "В документации указано ещё много разных возможностей для работы."
   ]
  },
  {
   "cell_type": "code",
   "execution_count": 53,
   "metadata": {},
   "outputs": [
    {
     "data": {
      "text/plain": [
       "True"
      ]
     },
     "execution_count": 53,
     "metadata": {},
     "output_type": "execute_result"
    }
   ],
   "source": [
    "config.remove_option(\"DEFAULT\", \"serveraliveinterval\")"
   ]
  },
  {
   "cell_type": "markdown",
   "metadata": {},
   "source": [
    "## Ведение журнала (логов) средствами Python\n",
    "\n",
    "В библиотеке [logging](https://docs.python.org/3/library/logging.html) существует пять последовательных уровней логирования: DEBUG, INFO, WARNING, ERROR и CRITICAL. При создании журнала можно задать, начиная с какого уровля сообщения будут сохраняться в файл.\n",
    "\n",
    "Как всегда - всё самое вкусное на [Хабре](https://habr.com/ru/post/513966/)."
   ]
  },
  {
   "cell_type": "code",
   "execution_count": 1,
   "metadata": {},
   "outputs": [],
   "source": [
    "! rm data/sample.log"
   ]
  },
  {
   "cell_type": "code",
   "execution_count": 2,
   "metadata": {},
   "outputs": [],
   "source": [
    "import logging"
   ]
  },
  {
   "cell_type": "code",
   "execution_count": 3,
   "metadata": {},
   "outputs": [],
   "source": [
    "# add filemode=\"w\" to overwrite\n",
    "logging.basicConfig(filename=\"data/sample.log\", filemode=\"w\", level=logging.INFO)\n",
    " \n",
    "logging.debug(\"This is a debug message\")\n",
    "logging.info(\"Informational message\")\n",
    "logging.error(\"An error has happened!\")"
   ]
  },
  {
   "cell_type": "markdown",
   "metadata": {},
   "source": [
    "Ниже видно, что сообщения ниже уровня INFO, установленного при создании объекта, не выводятся."
   ]
  },
  {
   "cell_type": "code",
   "execution_count": 4,
   "metadata": {},
   "outputs": [
    {
     "name": "stdout",
     "output_type": "stream",
     "text": [
      "INFO:root:Informational message\r\n",
      "ERROR:root:An error has happened!\r\n"
     ]
    }
   ],
   "source": [
    "%cat data/sample.log\n",
    "#!touch sample.log"
   ]
  },
  {
   "cell_type": "markdown",
   "metadata": {},
   "source": [
    "Можно заводить логи для отдельных модулей, потоков и пр., причем в выдаче будет указываться, что это за поток."
   ]
  },
  {
   "cell_type": "code",
   "execution_count": 5,
   "metadata": {},
   "outputs": [],
   "source": [
    "logger_main = logging.getLogger(__name__)\n",
    "logger_main.error(\"Something 1\")\n",
    "\n",
    "logger_ex = logging.getLogger(\"ex\")\n",
    "logger_ex.setLevel(logging.WARNING)\n",
    "logger_ex.error(\"Something 2\")"
   ]
  },
  {
   "cell_type": "code",
   "execution_count": 6,
   "metadata": {},
   "outputs": [
    {
     "name": "stdout",
     "output_type": "stream",
     "text": [
      "INFO:root:Informational message\r\n",
      "ERROR:root:An error has happened!\r\n",
      "ERROR:__main__:Something 1\r\n",
      "ERROR:ex:Something 2\r\n"
     ]
    }
   ],
   "source": [
    "%cat data/sample.log\n",
    "#!touch sample.log"
   ]
  },
  {
   "cell_type": "markdown",
   "metadata": {},
   "source": [
    "Можно задать формат выдачи для логов."
   ]
  },
  {
   "cell_type": "code",
   "execution_count": 7,
   "metadata": {},
   "outputs": [],
   "source": [
    "log_format = \"%(asctime)s - [%(levelname)s] - %(name)s - (%(filename)s).%(funcName)s(%(lineno)d) - %(message)s\"\n",
    "\n",
    "logging.root.handlers[0].setFormatter(logging.Formatter(log_format))"
   ]
  },
  {
   "cell_type": "code",
   "execution_count": 8,
   "metadata": {},
   "outputs": [],
   "source": [
    "logger_main.info(\"Test format 1\")\n",
    "logger_ex.error(\"Test format 2\")"
   ]
  },
  {
   "cell_type": "code",
   "execution_count": 10,
   "metadata": {},
   "outputs": [
    {
     "name": "stdout",
     "output_type": "stream",
     "text": [
      "INFO:root:Informational message\r\n",
      "ERROR:root:An error has happened!\r\n",
      "ERROR:__main__:Something 1\r\n",
      "ERROR:ex:Something 2\r\n",
      "2022-01-28 17:25:13,312 - [INFO] - __main__ - (133175099.py).<module>(1) - Test format 1\r\n",
      "2022-01-28 17:25:13,313 - [ERROR] - ex - (133175099.py).<module>(2) - Test format 2\r\n"
     ]
    }
   ],
   "source": [
    "%cat data/sample.log\n",
    "#!touch sample.log"
   ]
  },
  {
   "cell_type": "markdown",
   "metadata": {},
   "source": [
    "Можно закрыть поток с логами."
   ]
  },
  {
   "cell_type": "code",
   "execution_count": 9,
   "metadata": {},
   "outputs": [],
   "source": [
    "logging.root.handlers[0].close()"
   ]
  },
  {
   "cell_type": "markdown",
   "metadata": {},
   "source": [
    "## Тестирование программ на Питоне\n",
    "\n",
    "У Питона есть две встроенные возможности для проверки корректности выполнения программы. Первая из них - это оператор assert. Он проверяет истинность переданного выражения, и если оно ложно, останавливает выполнение программы."
   ]
  },
  {
   "cell_type": "code",
   "execution_count": 1,
   "metadata": {},
   "outputs": [
    {
     "ename": "AssertionError",
     "evalue": "That is the question",
     "output_type": "error",
     "traceback": [
      "\u001b[0;31m---------------------------------------------------------------------------\u001b[0m",
      "\u001b[0;31mAssertionError\u001b[0m                            Traceback (most recent call last)",
      "\u001b[0;32m/tmp/ipykernel_146583/3130981368.py\u001b[0m in \u001b[0;36m<module>\u001b[0;34m\u001b[0m\n\u001b[0;32m----> 1\u001b[0;31m \u001b[0;32massert\u001b[0m \u001b[0;36m2\u001b[0m\u001b[0;34m==\u001b[0m\u001b[0;36m3\u001b[0m\u001b[0;34m,\u001b[0m \u001b[0;34m\"That is the question\"\u001b[0m\u001b[0;34m\u001b[0m\u001b[0;34m\u001b[0m\u001b[0m\n\u001b[0m",
      "\u001b[0;31mAssertionError\u001b[0m: That is the question"
     ]
    }
   ],
   "source": [
    "assert 2==3, \"That is the question\""
   ]
  },
  {
   "cell_type": "markdown",
   "metadata": {},
   "source": [
    "Однако такие проверки скорее походят на проверку корректного состояния программы, чем на тестирование. Тесты для тестирования пишутся и выполняются отдельно. В соответствии с методологией Agile, сперва пишутся тесты, а только потом код, который проверяется этими тестами.\n",
    "\n",
    "Простейшим видом тестов являются модульные тесты, которые проверяют работу отдельных функций и модулей. Более сложными являются интеграционные тесты, проверяющие корректность взаимодействия модулей между собой. Здесь мы разберем инструментарий для модульного тестирования, однако в него могут быть внесены и интеграционные тесты."
   ]
  },
  {
   "cell_type": "markdown",
   "metadata": {},
   "source": [
    "#### Библиотека unittest\n",
    "\n",
    "[Документация на unittest](https://docs.python.org/3/library/unittest.html).\n",
    "\n",
    "Альтернатива - [doctest](https://docs.python.org/3/library/doctest.html#module-doctest), для которого тесты пишутся в строках документации к функциям. Но всё, что он может, это тестировать функции."
   ]
  },
  {
   "cell_type": "code",
   "execution_count": 2,
   "metadata": {},
   "outputs": [],
   "source": [
    "import unittest\n",
    "# Just for fun.\n",
    "from abc import abstractmethod\n",
    "# Need for an example.\n",
    "import sys"
   ]
  },
  {
   "cell_type": "markdown",
   "metadata": {},
   "source": [
    "Тесты пишутся обязательно как класс, наследуемый от `unittest.TestCase`. Каждая функция этого класса будет отдельным тестом, все вместе они составят набор тестов.\n",
    "\n",
    "Для вычисления результатов тестов используются функции, описанные в [документации](https://docs.python.org/3/library/unittest.html). В примере ниже используется простейшая - `assertEqual`."
   ]
  },
  {
   "cell_type": "markdown",
   "metadata": {},
   "source": [
    "\n",
    "|Method|Checks that|\n",
    "|:-----------|:-------------|\n",
    "|assertEqual(a, b)|a == b|\n",
    "|assertNotEqual(a, b)|a != b|\n",
    "|assertTrue(x)|bool(x) is True|\n",
    "|assertFalse(x)|bool(x) is False|\n",
    "|assertIs(a, b)|a is b|\n",
    "|assertIsNot(a, b)|a is not b|\n",
    "|assertIsNone(x)|x is None|\n",
    "|assertIsNotNone(x)|x is not None|\n",
    "|assertIn(a, b)|a in b|\n",
    "|assertNotIn(a, b)|a not in b|\n",
    "|assertIsInstance(a, b)|isinstance(a, b)|\n",
    "|assertNotIsInstance(a, b)|not isinstance(a, b)|\n",
    "|assertRaises(exc, fun, \\*args, \\*\\*kwds)|fun(\\*args, \\*\\*kwds) raises exc|\n",
    "|assertRaisesRegex(exc, r, fun, \\*args, \\*\\*kwds)|fun(\\*args, \\*\\*kwds) raises exc and the message matches regex r|\n",
    "|assertWarns(warn, fun, \\*args, \\*\\*kwds)|fun(\\*args, \\*\\*kwds) raises warn|\n",
    "|assertWarnsRegex(warn, r, fun, \\*args, \\*\\*kwds)|fun(\\*args, \\*\\*kwds) raises warn and the message matches regex r|\n",
    "|assertLogs(logger, level)|The with block logs on logger with minimum level|"
   ]
  },
  {
   "cell_type": "code",
   "execution_count": 3,
   "metadata": {},
   "outputs": [],
   "source": [
    "class TestNotebook(unittest.TestCase):\n",
    "    \n",
    "    def test_add(self):\n",
    "        self.assertEqual(2+2, 4)\n",
    "        \n",
    "    def test_mul(self):\n",
    "        self.assertEqual(2*2, 4)\n"
   ]
  },
  {
   "cell_type": "markdown",
   "metadata": {},
   "source": [
    "Вот так, увы, не работает. "
   ]
  },
  {
   "cell_type": "code",
   "execution_count": 4,
   "metadata": {
    "scrolled": true
   },
   "outputs": [
    {
     "name": "stderr",
     "output_type": "stream",
     "text": [
      "E\n",
      "======================================================================\n",
      "ERROR: /home/edward/ (unittest.loader._FailedTest)\n",
      "----------------------------------------------------------------------\n",
      "AttributeError: module '__main__' has no attribute '/home/edward/'\n",
      "\n",
      "----------------------------------------------------------------------\n",
      "Ran 1 test in 0.002s\n",
      "\n",
      "FAILED (errors=1)\n"
     ]
    },
    {
     "ename": "SystemExit",
     "evalue": "True",
     "output_type": "error",
     "traceback": [
      "An exception has occurred, use %tb to see the full traceback.\n",
      "\u001b[0;31mSystemExit\u001b[0m\u001b[0;31m:\u001b[0m True\n"
     ]
    },
    {
     "name": "stderr",
     "output_type": "stream",
     "text": [
      "/home/edward/.local/lib/python3.9/site-packages/IPython/core/interactiveshell.py:3449: UserWarning: To exit: use 'exit', 'quit', or Ctrl-D.\n",
      "  warn(\"To exit: use 'exit', 'quit', or Ctrl-D.\", stacklevel=1)\n"
     ]
    }
   ],
   "source": [
    "unittest.main()"
   ]
  },
  {
   "cell_type": "markdown",
   "metadata": {},
   "source": [
    "Чтобы заработало, надо использовать некоторое волшебство."
   ]
  },
  {
   "cell_type": "code",
   "execution_count": 5,
   "metadata": {},
   "outputs": [
    {
     "name": "stderr",
     "output_type": "stream",
     "text": [
      "test_add (__main__.TestNotebook) ... ok\n",
      "test_mul (__main__.TestNotebook) ... ok\n",
      "\n",
      "----------------------------------------------------------------------\n",
      "Ran 2 tests in 0.002s\n",
      "\n",
      "OK\n"
     ]
    },
    {
     "data": {
      "text/plain": [
       "<unittest.main.TestProgram at 0x7fe4d055b640>"
      ]
     },
     "execution_count": 5,
     "metadata": {},
     "output_type": "execute_result"
    }
   ],
   "source": [
    "unittest.main(argv=[''], verbosity=2, exit=False)"
   ]
  },
  {
   "cell_type": "markdown",
   "metadata": {},
   "source": [
    "Тесты должны быть оформлены в виде функций, имя которых начинается с `test`, все остальные функции считаются сервисными."
   ]
  },
  {
   "cell_type": "code",
   "execution_count": 6,
   "metadata": {},
   "outputs": [],
   "source": [
    "class TestNotebook2(unittest.TestCase):\n",
    "    \n",
    "    def add2(self):\n",
    "        self.assertEqual(2+2, 4)\n",
    "        \n",
    "    def mul2(self):\n",
    "        self.assertEqual(2*2, 6)        "
   ]
  },
  {
   "cell_type": "code",
   "execution_count": 7,
   "metadata": {},
   "outputs": [
    {
     "name": "stderr",
     "output_type": "stream",
     "text": [
      "test_add (__main__.TestNotebook) ... ok\n",
      "test_mul (__main__.TestNotebook) ... ok\n",
      "\n",
      "----------------------------------------------------------------------\n",
      "Ran 2 tests in 0.002s\n",
      "\n",
      "OK\n"
     ]
    },
    {
     "data": {
      "text/plain": [
       "<unittest.main.TestProgram at 0x7fe4d0573cd0>"
      ]
     },
     "execution_count": 7,
     "metadata": {},
     "output_type": "execute_result"
    }
   ],
   "source": [
    "unittest.main(argv=[''], verbosity=2, exit=False)"
   ]
  },
  {
   "cell_type": "markdown",
   "metadata": {},
   "source": [
    "Если создаются несколько классов, наследуемых от TestCase, они будут использованы все в порядке объявления."
   ]
  },
  {
   "cell_type": "code",
   "execution_count": 8,
   "metadata": {},
   "outputs": [],
   "source": [
    "class TestNotebook2(unittest.TestCase):\n",
    "    \n",
    "    def anyOther(self):\n",
    "        some_code = 42\n",
    "    \n",
    "    def testAdd2(self):\n",
    "        self.assertEqual(2+2, 4)\n",
    "        \n",
    "    def testMul2(self):\n",
    "        self.assertEqual(2*2, 6)\n"
   ]
  },
  {
   "cell_type": "code",
   "execution_count": 9,
   "metadata": {},
   "outputs": [
    {
     "name": "stderr",
     "output_type": "stream",
     "text": [
      "test_add (__main__.TestNotebook) ... ok\n",
      "test_mul (__main__.TestNotebook) ... ok\n",
      "testAdd2 (__main__.TestNotebook2) ... ok\n",
      "testMul2 (__main__.TestNotebook2) ... FAIL\n",
      "\n",
      "======================================================================\n",
      "FAIL: testMul2 (__main__.TestNotebook2)\n",
      "----------------------------------------------------------------------\n",
      "Traceback (most recent call last):\n",
      "  File \"/tmp/ipykernel_146583/3904879068.py\", line 10, in testMul2\n",
      "    self.assertEqual(2*2, 6)\n",
      "AssertionError: 4 != 6\n",
      "\n",
      "----------------------------------------------------------------------\n",
      "Ran 4 tests in 0.006s\n",
      "\n",
      "FAILED (failures=1)\n"
     ]
    },
    {
     "data": {
      "text/plain": [
       "<unittest.main.TestProgram at 0x7fe4d0584370>"
      ]
     },
     "execution_count": 9,
     "metadata": {},
     "output_type": "execute_result"
    }
   ],
   "source": [
    "unittest.main(argv=[''], verbosity=2, exit=False)"
   ]
  },
  {
   "cell_type": "code",
   "execution_count": 21,
   "metadata": {},
   "outputs": [],
   "source": [
    "class TestNotebook3(unittest.TestCase):\n",
    "    \n",
    "    def testadd3(self):\n",
    "        self.assertTrue(2+2==4)\n",
    "        \n",
    "    def testmul3(self):\n",
    "        self.assertFalse(2*2==6)\n"
   ]
  },
  {
   "cell_type": "code",
   "execution_count": 22,
   "metadata": {},
   "outputs": [
    {
     "name": "stderr",
     "output_type": "stream",
     "text": [
      "test_add (__main__.TestNotebook) ... ok\n",
      "test_mul (__main__.TestNotebook) ... ok\n",
      "testAdd2 (__main__.TestNotebook2) ... ok\n",
      "testMul2 (__main__.TestNotebook2) ... FAIL\n",
      "testadd3 (__main__.TestNotebook3) ... ok\n",
      "testmul3 (__main__.TestNotebook3) ... ok\n",
      "\n",
      "======================================================================\n",
      "FAIL: testMul2 (__main__.TestNotebook2)\n",
      "----------------------------------------------------------------------\n",
      "Traceback (most recent call last):\n",
      "  File \"<ipython-input-19-7a234d38096b>\", line 10, in testMul2\n",
      "    self.assertEqual(2*2, 6)\n",
      "AssertionError: 4 != 6\n",
      "\n",
      "----------------------------------------------------------------------\n",
      "Ran 6 tests in 0.008s\n",
      "\n",
      "FAILED (failures=1)\n"
     ]
    },
    {
     "data": {
      "text/plain": [
       "<unittest.main.TestProgram at 0x7f3f6c125d30>"
      ]
     },
     "execution_count": 22,
     "metadata": {},
     "output_type": "execute_result"
    }
   ],
   "source": [
    "unittest.main(argv=[''], verbosity=2, exit=False)"
   ]
  },
  {
   "cell_type": "markdown",
   "metadata": {},
   "source": [
    "Опробуем некоторый пример, чуть более похожий на настоящий. Напишем класс, который будет формировать некоторое выражение в прямой польской записи.  \n",
    "Базовый класс `Clause` будет хранить строку выражения и некий глобальный идентификатор, считающий выражения. Класс будет абстрактным.  \n",
    "Класс `WordClause` будет хранить одно слово из выражения.  \n",
    "Класс `ComplexClause` будет хранить список потомков и формировать из себя и них польскую запись.\n"
   ]
  },
  {
   "cell_type": "code",
   "execution_count": 10,
   "metadata": {},
   "outputs": [],
   "source": [
    "class Clause:\n",
    "    stringRepr = ''\n",
    "    globalId = 0\n",
    "    \n",
    "    def __init__(self, _srepr):\n",
    "        self.stringRepr = _srepr\n",
    "        self.id = Clause.globalId + 1\n",
    "        Clause.globalId += 1\n",
    "    \n",
    "    @abstractmethod\n",
    "    def getStringRepr(self):\n",
    "        pass\n",
    "    \n",
    "\n",
    "class WordClause(Clause):\n",
    "    def getStringRepr(self):\n",
    "        return self.stringRepr\n",
    "    \n",
    "class ComplexClause(Clause):\n",
    "    def __init__(self, _srepr):\n",
    "        Clause.__init__(self, _srepr)\n",
    "        self.childs = []\n",
    "    \n",
    "    def getStringRepr(self):\n",
    "        tstr = self.stringRepr + '['\n",
    "        for c in self.childs:\n",
    "            tstr += c.getStringRepr() + ','\n",
    "        if len(self.childs) != 0:\n",
    "            tstr = tstr[:-1]\n",
    "        tstr += ']'\n",
    "        return tstr\n",
    "    \n",
    "    def addClause(self, cla):\n",
    "        self.childs.append(cla)"
   ]
  },
  {
   "cell_type": "markdown",
   "metadata": {},
   "source": [
    "Протестируем корректность формирования таких выражений."
   ]
  },
  {
   "cell_type": "code",
   "execution_count": 11,
   "metadata": {},
   "outputs": [],
   "source": [
    "class ClauseTest(unittest.TestCase):\n",
    "    # Функция с волшебным именем для инициализации переменных перед выполнением набора тестов.\n",
    "    def setUp(self):\n",
    "        print(\"setting up an object\")\n",
    "        self.cl1 = WordClause('123')\n",
    "        self.cl2 = WordClause('234')\n",
    "        self.cl3 = WordClause('345')\n",
    "        self.cl4 = WordClause('456')\n",
    "        self.ccl1 = ComplexClause('qwe')\n",
    "        self.ccl2 = ComplexClause('asd')\n",
    "        self.ccl3 = ComplexClause('zxc')\n",
    "\n",
    "    # Функция с волшебным именем для инициализации класса.\n",
    "    @classmethod\n",
    "    def setUpClass(cls):\n",
    "        print(\"setting up the class\")\n",
    "    \n",
    "    # Функция с волшебным именем для очистки данных после успешного завершения тестов.\n",
    "    def tearDown(self):\n",
    "        print(\"tearing down\")\n",
    "        \n",
    "    # Функция с волшебным именем для очистки данных в любом случае.\n",
    "    def doCleanups(self):\n",
    "        '''\n",
    "    If setUp() fails, meaning that tearDown() is not called, then any cleanup functions added will still be called.\n",
    "    addCleanup(function, /, *args, **kwargs)\n",
    "\n",
    "    Add a function to be called after tearDown() to cleanup resources used during the test. Functions will be called in reverse order to the order they are added (LIFO). They are called with any arguments and keyword arguments passed into addCleanup() when they are added.\n",
    "        '''\n",
    "        print(\"cleaning up\")\n",
    "\n",
    "#     def shortDescription(self):\n",
    "#         return \"This is a testcase for word clauses.\"\n",
    "\n",
    "    def testComplesClauseAddTest(self):\n",
    "        '''test name in docstring'''\n",
    "        print(\"start testing process 1\")\n",
    "        self.ccl1.addClause(self.cl1)\n",
    "        self.assertEqual(len(self.ccl1.childs), 1)\n",
    "        self.ccl1.addClause(self.cl2)\n",
    "        self.assertEqual(len(self.ccl1.childs), 2)\n",
    "        self.ccl2.addClause(self.cl3)\n",
    "        self.ccl2.addClause(self.cl4)\n",
    "        self.ccl3.addClause(self.ccl1)\n",
    "        self.assertEqual(len(self.ccl3.childs), 1)\n",
    "        self.ccl3.addClause(self.ccl2)\n",
    "        self.assertEqual(len(self.ccl3.childs), 2)\n",
    "        print(\"finish testing process 1\")\n",
    "        \n",
    "    def testWordClauseStringReprTest(self):\n",
    "        print(\"start testing process 2\")\n",
    "        self.assertEqual(self.cl1.getStringRepr(), '123')\n",
    "        self.assertEqual(self.cl2.getStringRepr(), '234')\n",
    "        self.assertEqual(self.ccl3.getStringRepr(), 'zxc[qwe[123,234],asd[345,456]]')\n",
    "        print(\"finish testing process 2\")\n",
    "        # with self.subTest(i=i): - позволит проолжить тест.\n",
    "\n",
    "    def testWordClauseStringReprTest2(self):\n",
    "        print(\"start testing process 3\")\n",
    "        self.ccl1.addClause(self.cl1)\n",
    "        self.ccl1.addClause(self.cl2)\n",
    "        self.ccl2.addClause(self.cl3)\n",
    "        self.ccl2.addClause(self.cl4)\n",
    "        self.ccl3.addClause(self.ccl1)\n",
    "        self.ccl3.addClause(self.ccl2)\n",
    "        self.assertEqual(self.ccl3.getStringRepr(), 'zxc[qwe[123,234],asd[345,456]]')\n",
    "        print(\"finish testing process 3\")\n"
   ]
  },
  {
   "cell_type": "code",
   "execution_count": 12,
   "metadata": {},
   "outputs": [
    {
     "name": "stderr",
     "output_type": "stream",
     "text": [
      "testComplesClauseAddTest (__main__.ClauseTest)\n",
      "test name in docstring ... ok\n",
      "testWordClauseStringReprTest (__main__.ClauseTest) ... FAIL\n",
      "testWordClauseStringReprTest2 (__main__.ClauseTest) ... ok\n",
      "test_add (__main__.TestNotebook) ... ok\n",
      "test_mul (__main__.TestNotebook) ... ok\n",
      "testAdd2 (__main__.TestNotebook2) ... ok\n",
      "testMul2 (__main__.TestNotebook2) ... "
     ]
    },
    {
     "name": "stdout",
     "output_type": "stream",
     "text": [
      "setting up the class\n",
      "setting up an object\n",
      "start testing process 1\n",
      "finish testing process 1\n",
      "tearing down\n",
      "cleaning up\n",
      "setting up an object\n",
      "start testing process 2\n",
      "tearing down\n",
      "cleaning up\n",
      "setting up an object\n",
      "start testing process 3\n",
      "finish testing process 3\n",
      "tearing down\n",
      "cleaning up\n"
     ]
    },
    {
     "name": "stderr",
     "output_type": "stream",
     "text": [
      "FAIL\n",
      "\n",
      "======================================================================\n",
      "FAIL: testWordClauseStringReprTest (__main__.ClauseTest)\n",
      "----------------------------------------------------------------------\n",
      "Traceback (most recent call last):\n",
      "  File \"/tmp/ipykernel_146583/1284984051.py\", line 54, in testWordClauseStringReprTest\n",
      "    self.assertEqual(self.ccl3.getStringRepr(), 'zxc[qwe[123,234],asd[345,456]]')\n",
      "AssertionError: 'zxc[]' != 'zxc[qwe[123,234],asd[345,456]]'\n",
      "- zxc[]\n",
      "+ zxc[qwe[123,234],asd[345,456]]\n",
      "\n",
      "\n",
      "======================================================================\n",
      "FAIL: testMul2 (__main__.TestNotebook2)\n",
      "----------------------------------------------------------------------\n",
      "Traceback (most recent call last):\n",
      "  File \"/tmp/ipykernel_146583/3904879068.py\", line 10, in testMul2\n",
      "    self.assertEqual(2*2, 6)\n",
      "AssertionError: 4 != 6\n",
      "\n",
      "----------------------------------------------------------------------\n",
      "Ran 7 tests in 0.008s\n",
      "\n",
      "FAILED (failures=2)\n"
     ]
    },
    {
     "data": {
      "text/plain": [
       "<unittest.main.TestProgram at 0x7fe4d0584ca0>"
      ]
     },
     "execution_count": 12,
     "metadata": {},
     "output_type": "execute_result"
    }
   ],
   "source": [
    "unittest.main(argv=[''], verbosity=2, exit=False)"
   ]
  },
  {
   "cell_type": "code",
   "execution_count": 13,
   "metadata": {},
   "outputs": [],
   "source": [
    "def external_resource_available():\n",
    "    return False\n",
    "\n",
    "class TestSkipTest(unittest.TestCase):\n",
    "    @unittest.skip(\"demonstrating skipping\")\n",
    "    def test_nothing(self):\n",
    "        self.fail(\"shouldn't happen\")\n",
    "\n",
    "    @unittest.skipIf(not sys.platform.startswith(\"win\"), \"requires Windows\")\n",
    "    def test_format(self):\n",
    "        # Tests that work for only a certain version of the library.\n",
    "        pass\n",
    "\n",
    "    @unittest.skipUnless(sys.platform.startswith(\"win\"), \"requires Windows\")\n",
    "    def test_windows_support(self):\n",
    "        # windows specific testing code\n",
    "        pass\n",
    "\n",
    "    def test_maybe_skipped(self):\n",
    "        if not external_resource_available():\n",
    "            self.skipTest(\"external resource not available\")\n",
    "        # test code that depends on the external resource\n",
    "        pass\n",
    "    \n",
    "    \n",
    "\n",
    "# @unittest.expectedFailure\n",
    "# Mark the test as an expected failure or error. \n",
    "# If the test fails or errors it will be considered a success. \n",
    "# If the test passes, it will be considered a failure.\n"
   ]
  },
  {
   "cell_type": "markdown",
   "metadata": {},
   "source": [
    "Можно снизить уровень \"надоедливости\" вывода результатов тестов."
   ]
  },
  {
   "cell_type": "code",
   "execution_count": 14,
   "metadata": {
    "scrolled": false
   },
   "outputs": [
    {
     "name": "stderr",
     "output_type": "stream",
     "text": [
      ".F....Fssss"
     ]
    },
    {
     "name": "stdout",
     "output_type": "stream",
     "text": [
      "setting up the class\n",
      "setting up an object\n",
      "start testing process 1\n",
      "finish testing process 1\n",
      "tearing down\n",
      "cleaning up\n",
      "setting up an object\n",
      "start testing process 2\n",
      "tearing down\n",
      "cleaning up\n",
      "setting up an object\n",
      "start testing process 3\n",
      "finish testing process 3\n",
      "tearing down\n",
      "cleaning up\n"
     ]
    },
    {
     "name": "stderr",
     "output_type": "stream",
     "text": [
      "\n",
      "======================================================================\n",
      "FAIL: testWordClauseStringReprTest (__main__.ClauseTest)\n",
      "----------------------------------------------------------------------\n",
      "Traceback (most recent call last):\n",
      "  File \"/tmp/ipykernel_146583/1284984051.py\", line 54, in testWordClauseStringReprTest\n",
      "    self.assertEqual(self.ccl3.getStringRepr(), 'zxc[qwe[123,234],asd[345,456]]')\n",
      "AssertionError: 'zxc[]' != 'zxc[qwe[123,234],asd[345,456]]'\n",
      "- zxc[]\n",
      "+ zxc[qwe[123,234],asd[345,456]]\n",
      "\n",
      "\n",
      "======================================================================\n",
      "FAIL: testMul2 (__main__.TestNotebook2)\n",
      "----------------------------------------------------------------------\n",
      "Traceback (most recent call last):\n",
      "  File \"/tmp/ipykernel_146583/3904879068.py\", line 10, in testMul2\n",
      "    self.assertEqual(2*2, 6)\n",
      "AssertionError: 4 != 6\n",
      "\n",
      "----------------------------------------------------------------------\n",
      "Ran 11 tests in 0.009s\n",
      "\n",
      "FAILED (failures=2, skipped=4)\n"
     ]
    },
    {
     "data": {
      "text/plain": [
       "<unittest.main.TestProgram at 0x7fe4d0523880>"
      ]
     },
     "execution_count": 14,
     "metadata": {},
     "output_type": "execute_result"
    }
   ],
   "source": [
    "unittest.main(argv=[''], verbosity=1, exit=False)"
   ]
  },
  {
   "cell_type": "code",
   "execution_count": null,
   "metadata": {},
   "outputs": [],
   "source": []
  }
 ],
 "metadata": {
  "kernelspec": {
   "display_name": "Python 3 (ipykernel)",
   "language": "python",
   "name": "python3"
  },
  "language_info": {
   "codemirror_mode": {
    "name": "ipython",
    "version": 3
   },
   "file_extension": ".py",
   "mimetype": "text/x-python",
   "name": "python",
   "nbconvert_exporter": "python",
   "pygments_lexer": "ipython3",
   "version": "3.9.5"
  }
 },
 "nbformat": 4,
 "nbformat_minor": 4
}
